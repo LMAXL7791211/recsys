{
 "cells": [
  {
   "cell_type": "markdown",
   "metadata": {},
   "source": [
    "1. Сравните метрики hit_rate@k, precision@k.   \n",
    "Какую метрику использовать предпочтительно и почему?  \n",
    "Приведите пример 2-3 задач (опишите, что является клиентом, что товаром), в которой более уместно использовать метрику hit_rate?\n"
   ]
  },
  {
   "cell_type": "markdown",
   "metadata": {},
   "source": [
    "Ответ: hit_rate@k бинарная, и отражает лишь факт \"попадания\", хотя бы минимального (или не попадания) в наших топ k рекомендациях. Т.е. эта метрика даст одинаковый результат (1), если рекомендации будут минимально точные и если рекомендации будут максимадьно точные (т.е. не будет разницы, один ли товар из рекомендованных куплен или все k)\n",
    "\n",
    "precision@k более \"гибкая\" и отражает не только положительный (или нулевой) результат рекомендаций, но и уровень (или долю) \"попаданий\" в k рекомендациях. Полагаю, в большинстве задач эта метрика предпочтительнее, т.к. она позволяет лучше настроить модель и позволяет сравнивать результат разных моделей, в которых hit_rate даст одинаковый score.\n",
    "\n",
    "Технически, hit_rate предпочтительнее в случае рекомендации одного товара (k=1), в этом случае результат hit_rate@k одинаков с precision@k :\n",
    "\n",
    "например какое-нибуть one time offer (когда клиент - посетитель сайта гикбрейнс, и ему предлагается подписка на рекомендованный курс со скидкой, которая действует в течение короткого времени)\n",
    "\n",
    "Также, полагаю, hit_rate может быть предпочтительнее в тех  случаях, когда для бизнеса достаточно, чтобы хотя бы одна рекомендация сработала (продаваемый товар покупается редко и/или он достаточно дорогой:\n",
    "\n",
    "клиент - человек, покупающий жилье, товар - дом/квартира;\n",
    "клиент - водитель, товар - автомобиль;\n",
    "клиент - посетитель сайта с дорогой мебелью, товар - диван или кухонный гарнитур\n"
   ]
  },
  {
   "cell_type": "markdown",
   "metadata": {},
   "source": [
    "2. В метрике NDCG@k мы используем логарифм в знаменателе. Как Вы думаете, почему именно логарифм? Какую функцию можно использовать вместо логарифма? Приведите пример метрик/подходов к предобработке данных/функций ошибок в ML, где также в  логарифм.\n",
    "\n"
   ]
  },
  {
   "cell_type": "code",
   "execution_count": 1,
   "metadata": {},
   "outputs": [],
   "source": [
    "import numpy as np"
   ]
  },
  {
   "cell_type": "markdown",
   "metadata": {},
   "source": [
    "$DCG@5 = \\frac{1}{5}*(1 / 1 + 0 / 2 + 0 / log(3) + 1 / log(4) + 0 / log(5))$  \n",
    "$ideal DCG@5 = \\frac{1}{5}*(1 / 1 + 1 / 2 + 1 / log(3) + 1 / log(4) + 1 / log(5))$  \n",
    "\n",
    "$NDCG = \\frac{DCG}{ideal DCG}$"
   ]
  },
  {
   "cell_type": "code",
   "execution_count": 3,
   "metadata": {},
   "outputs": [
    {
     "data": {
      "text/plain": [
       "1.584962500721156"
      ]
     },
     "execution_count": 3,
     "metadata": {},
     "output_type": "execute_result"
    }
   ],
   "source": [
    "np.log2(3)"
   ]
  },
  {
   "cell_type": "markdown",
   "metadata": {},
   "source": [
    "Знаменатель корректирует вес релевантных значений в зависимости от их \"положения\". По логике вес должен уменьшаться с увеличением \"номера\" в ранжировании.\n",
    "\n",
    "Т.к. log(i)< i , то думаю, что логарифм используются для более плавного уменьшения влияния на результат рекомендаций, находящмихся после 1й и 2й. \n",
    "\n",
    "При этом, мне не совсем понятно, почему для 3го значения \"дисконт\" меньше чем для второго ( log2(3)~1,58 ), и для 4го значения знаменатель (log2(4)) такой же как для второго. И лишь с 5го значения вес уменьшается с каждой позицией.\n",
    "\n",
    "По такой логике вместо логарифма можно использовать какую-нибудь другую функцию, уменьшающую \"скорость\" увеличения (например степенную функцию с значением степени меньше 1 (1/3 например))"
   ]
  },
  {
   "cell_type": "code",
   "execution_count": null,
   "metadata": {},
   "outputs": [],
   "source": []
  },
  {
   "cell_type": "markdown",
   "metadata": {},
   "source": [
    "3. Какие еще метрики (Вы можете вспомнить уже пройденные Вами или посмотреть в интернете) могут использоваться для рекомендательных систем (приведите примеры метрики **и чем являются интеракции**, чтобы она могла быть использована)."
   ]
  },
  {
   "cell_type": "markdown",
   "metadata": {},
   "source": [
    "Mean average recall @k (MAR@K). Аналогична MAP@K, вместо precision используется recall\n",
    "\n",
    "WTA (winner takes all) – эта метрика равна 1, если топ-рекомендация (с самым большим предсказанным рейтингом) из просмотренных пользователем получила положительную оценку, и 0 в противном случае;\n",
    "\n"
   ]
  },
  {
   "cell_type": "markdown",
   "metadata": {},
   "source": [
    "4. boughted = [1, 3, 5, 7, 9, 11]  \n",
    "recommended = [2, 5, 7, 4, 11, 9, 8, 10, 12, 3]  \n",
    "Посчитайте на этих данных pr@8, rec@8, AP@8, NDCG@8, RR@8, ERR@8 (expected reciprocal rank)  \n",
    "Сначала поссчитайет \"руками\", а затем подтвердите рассчеты с помощью функций (некоторые были на семинаре, некоторые нужно будут написать самостоятельно)"
   ]
  },
  {
   "cell_type": "raw",
   "metadata": {},
   "source": [
    "recommended8 = [2, 5, 7, 4, 11, 9, 8, 10]\n",
    "flags = [0, 1, 1, 0, 1, 1, 0, 0]\n",
    "\n",
    "\n",
    "PR@8 = (0+1+1+0+1+1+0+0)/(8) = 0.5\n",
    "\n",
    "REC@8 = (0+1+1+0+1+1+0+0)/(6) = 0.667\n",
    "\n",
    "AP@8 = ((0+1)/2 + (0+1+1)/3 + (0+1+1+0+1)/5 + (0+1+1+0+1+1)/(6)) / 4 = (0.5 + 0.667 + 0.6 + 0.667) / 4 = 0.608\n",
    "\n",
    "NDCG@8 = 1/8 * (0/1 + 1/2 + 1/log(3) + 0/log(4) + 1/log(5) + 1/log(6) + 0/log(7) + 0/log(8)) /\n",
    "// (1/8 * (1/1 + 1/2 + 1/log(3) + 1/log(4) + 1/log(5) + 1/log(6) + 1/log(7) + 1/log(8))) = \n",
    "= (0.5 + 0.631 + 0.431 + 0.387)/(1 + 0.5 + 0.631 + 0.5 + 0.431 + 0.386 + 0.356 + 0.333) = 1.948/4.138 = 0.471\n",
    "\n",
    "RR@8 = 1/8 * (1/2 + 1/3 + 1/5 + 1/6) = 0.15\n",
    "\n",
    "ERR@8 = "
   ]
  },
  {
   "cell_type": "markdown",
   "metadata": {},
   "source": [
    "ERR@8 нашел на https://habr.com/ru/company/econtenta/blog/303458/\n",
    "\n",
    "    к сожалению, не понял эту метрику и как она считается\n",
    "    \n",
    "    \n",
    "    Expected reciprocal rank (ERR) — пример метрики качества ранжирования, основанной на каскадной модели. Задается она следующей формулой и т.д. по ссылке"
   ]
  },
  {
   "cell_type": "code",
   "execution_count": 14,
   "metadata": {},
   "outputs": [],
   "source": [
    "def precision_at_k(recommended_list, bought_list, k=8):\n",
    "    \n",
    "    bought_list = np.array(bought_list)\n",
    "    recommended_list = np.array(recommended_list)\n",
    "    \n",
    "    bought_list = bought_list  # Тут нет [:k] !!\n",
    "    recommended_list = recommended_list[:k]\n",
    "    \n",
    "    flags = np.isin(bought_list, recommended_list)\n",
    "    \n",
    "    precision = flags.sum() / len(recommended_list)\n",
    "    \n",
    "    \n",
    "    return precision\n",
    "\n",
    "def recall_at_k(recommended_list, bought_list, k=8):\n",
    "    \n",
    "    bought_list = np.array(bought_list)\n",
    "    recommended_list = np.array(recommended_list[:k])\n",
    "    \n",
    "    flags = np.isin(bought_list, recommended_list)\n",
    "    \n",
    "    recall = flags.sum() / len(bought_list)\n",
    "    \n",
    "    return recall\n",
    "\n"
   ]
  },
  {
   "cell_type": "code",
   "execution_count": 31,
   "metadata": {},
   "outputs": [],
   "source": [
    "def ap_k(recommended_list, bought_list, k=8):\n",
    "    \n",
    "    bought_list = np.array(bought_list)\n",
    "    recommended_list = np.array(recommended_list[:k])\n",
    "    \n",
    "    flags = np.isin(recommended_list, bought_list)\n",
    "    \n",
    "    if sum(flags) == 0:\n",
    "        return 0\n",
    "    \n",
    "    sum_ = 0\n",
    "    for i in range(1, k+1):\n",
    "        \n",
    "        if flags[i-1] == True:\n",
    "            p_k = precision_at_k(recommended_list, bought_list, k=i)\n",
    "            sum_ += p_k\n",
    "            \n",
    "    result = sum_ / sum(flags)\n",
    "    \n",
    "    return result"
   ]
  },
  {
   "cell_type": "code",
   "execution_count": 33,
   "metadata": {},
   "outputs": [],
   "source": [
    "def ndsg_k(recommended_list, bought_list, k=8):\n",
    "    \n",
    "    recommended_list = recommended_list[:k]\n",
    "    flags = np.isin(recommended_list, bought_list)\n",
    "    \n",
    "    if sum(flags) == 0:\n",
    "        return 0\n",
    "\n",
    "    dsg_k = 0\n",
    "    idealdsg = 0\n",
    "    for i, flag in enumerate (flags):\n",
    "        \n",
    "        if i<2:\n",
    "            if flag == True:\n",
    "                dsg_k += flag/(i+1)\n",
    "            idealdsg += 1/(i+1)\n",
    "        else:\n",
    "            if flag == True:\n",
    "                dsg_k += flag/np.log2(i+1)\n",
    "            idealdsg += 1/np.log2(i+1)\n",
    "                \n",
    "    # по итогам расчета можно разделить dsg_k и idealdsg на k, но на результат это не влияет, поэтому не стал делить\n",
    "    return dsg_k/idealdsg\n",
    "\n",
    "def rr_k(recommended_list, bought_list, k=8):\n",
    "    \n",
    "    recommended_list = recommended_list[:k]\n",
    "    flags = np.isin(recommended_list, bought_list)\n",
    "    \n",
    "    sum = 0\n",
    "    for i, flag in enumerate (flags):\n",
    "        \n",
    "        sum += flag/(i+1)\n",
    "    \n",
    "    return sum/k\n",
    "    "
   ]
  },
  {
   "cell_type": "code",
   "execution_count": 23,
   "metadata": {},
   "outputs": [],
   "source": [
    "bought_list = [1, 3, 5, 7, 9, 11]  \n",
    "recommended_list = [2, 5, 7, 4, 11, 9, 8, 10, 12, 3] "
   ]
  },
  {
   "cell_type": "code",
   "execution_count": 24,
   "metadata": {},
   "outputs": [
    {
     "data": {
      "text/plain": [
       "0.5"
      ]
     },
     "execution_count": 24,
     "metadata": {},
     "output_type": "execute_result"
    }
   ],
   "source": [
    "precision_at_k(recommended_list, bought_list, k=8)"
   ]
  },
  {
   "cell_type": "code",
   "execution_count": 25,
   "metadata": {},
   "outputs": [
    {
     "data": {
      "text/plain": [
       "0.6666666666666666"
      ]
     },
     "execution_count": 25,
     "metadata": {},
     "output_type": "execute_result"
    }
   ],
   "source": [
    "recall_at_k(recommended_list, bought_list, k=8)"
   ]
  },
  {
   "cell_type": "code",
   "execution_count": 32,
   "metadata": {},
   "outputs": [
    {
     "data": {
      "text/plain": [
       "0.6083333333333333"
      ]
     },
     "execution_count": 32,
     "metadata": {},
     "output_type": "execute_result"
    }
   ],
   "source": [
    "ap_k(recommended_list, bought_list, k=8)"
   ]
  },
  {
   "cell_type": "code",
   "execution_count": 34,
   "metadata": {},
   "outputs": [
    {
     "data": {
      "text/plain": [
       "0.4708698136085946"
      ]
     },
     "execution_count": 34,
     "metadata": {},
     "output_type": "execute_result"
    }
   ],
   "source": [
    "ndsg_k(recommended_list, bought_list, k=8)"
   ]
  },
  {
   "cell_type": "code",
   "execution_count": 30,
   "metadata": {},
   "outputs": [
    {
     "data": {
      "text/plain": [
       "0.15"
      ]
     },
     "execution_count": 30,
     "metadata": {},
     "output_type": "execute_result"
    }
   ],
   "source": [
    "rr_k(recommended_list, bought_list, k=8)"
   ]
  },
  {
   "cell_type": "code",
   "execution_count": 35,
   "metadata": {},
   "outputs": [
    {
     "name": "stdout",
     "output_type": "stream",
     "text": [
      "0.6309297535714575\n",
      "0.5\n",
      "0.43067655807339306\n",
      "0.38685280723454163\n",
      "0.3562071871080222\n",
      "0.3333333333333333\n",
      "1.9484591188793923 4.137999639320748 0.4708698136085946\n"
     ]
    }
   ],
   "source": [
    "#для ручного расчета ndcg\n",
    "\n",
    "sum0 = 0.5\n",
    "sum1 = 1.5\n",
    "for i in range(3,9):\n",
    "    a = 1/np.log2(i)\n",
    "    print(a)\n",
    "    if i in [3,5,6]:\n",
    "        sum0 += a\n",
    "    sum1 += a\n",
    "print(sum0,sum1, sum0/sum1)"
   ]
  },
  {
   "cell_type": "code",
   "execution_count": null,
   "metadata": {},
   "outputs": [],
   "source": []
  }
 ],
 "metadata": {
  "kernelspec": {
   "display_name": "Python 3",
   "language": "python",
   "name": "python3"
  },
  "language_info": {
   "codemirror_mode": {
    "name": "ipython",
    "version": 3
   },
   "file_extension": ".py",
   "mimetype": "text/x-python",
   "name": "python",
   "nbconvert_exporter": "python",
   "pygments_lexer": "ipython3",
   "version": "3.7.6"
  }
 },
 "nbformat": 4,
 "nbformat_minor": 2
}
