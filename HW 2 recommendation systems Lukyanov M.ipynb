{
 "cells": [
  {
   "cell_type": "code",
   "execution_count": 1,
   "metadata": {
    "colab": {},
    "colab_type": "code",
    "id": "rgIzW-DSC8Yi"
   },
   "outputs": [],
   "source": [
    "import pandas as pd\n",
    "import numpy as np\n",
    "import matplotlib.pyplot as plt\n",
    "%matplotlib inline\n",
    "\n",
    "# Для работы с матрицами\n",
    "from scipy.sparse import csr_matrix, coo_matrix\n",
    "\n",
    "# Детерминированные алгоритмы\n",
    "from implicit.nearest_neighbours import ItemItemRecommender, CosineRecommender, TFIDFRecommender, BM25Recommender\n",
    "\n",
    "# Метрики\n",
    "from implicit.evaluation import train_test_split\n",
    "from implicit.evaluation import precision_at_k, mean_average_precision_at_k, AUC_at_k, ndcg_at_k"
   ]
  },
  {
   "cell_type": "code",
   "execution_count": 2,
   "metadata": {
    "colab": {},
    "colab_type": "code",
    "id": "9qFkcgyrC8Yt",
    "outputId": "24a33bf1-942a-4b18-c54a-a7500c8f8712"
   },
   "outputs": [
    {
     "data": {
      "text/html": [
       "<div>\n",
       "<style scoped>\n",
       "    .dataframe tbody tr th:only-of-type {\n",
       "        vertical-align: middle;\n",
       "    }\n",
       "\n",
       "    .dataframe tbody tr th {\n",
       "        vertical-align: top;\n",
       "    }\n",
       "\n",
       "    .dataframe thead th {\n",
       "        text-align: right;\n",
       "    }\n",
       "</style>\n",
       "<table border=\"1\" class=\"dataframe\">\n",
       "  <thead>\n",
       "    <tr style=\"text-align: right;\">\n",
       "      <th></th>\n",
       "      <th>user_id</th>\n",
       "      <th>basket_id</th>\n",
       "      <th>day</th>\n",
       "      <th>item_id</th>\n",
       "      <th>quantity</th>\n",
       "      <th>sales_value</th>\n",
       "      <th>store_id</th>\n",
       "      <th>retail_disc</th>\n",
       "      <th>trans_time</th>\n",
       "      <th>week_no</th>\n",
       "      <th>coupon_disc</th>\n",
       "      <th>coupon_match_disc</th>\n",
       "    </tr>\n",
       "  </thead>\n",
       "  <tbody>\n",
       "    <tr>\n",
       "      <th>0</th>\n",
       "      <td>2375</td>\n",
       "      <td>26984851472</td>\n",
       "      <td>1</td>\n",
       "      <td>1004906</td>\n",
       "      <td>1</td>\n",
       "      <td>1.39</td>\n",
       "      <td>364</td>\n",
       "      <td>-0.6</td>\n",
       "      <td>1631</td>\n",
       "      <td>1</td>\n",
       "      <td>0.0</td>\n",
       "      <td>0.0</td>\n",
       "    </tr>\n",
       "    <tr>\n",
       "      <th>1</th>\n",
       "      <td>2375</td>\n",
       "      <td>26984851472</td>\n",
       "      <td>1</td>\n",
       "      <td>1033142</td>\n",
       "      <td>1</td>\n",
       "      <td>0.82</td>\n",
       "      <td>364</td>\n",
       "      <td>0.0</td>\n",
       "      <td>1631</td>\n",
       "      <td>1</td>\n",
       "      <td>0.0</td>\n",
       "      <td>0.0</td>\n",
       "    </tr>\n",
       "  </tbody>\n",
       "</table>\n",
       "</div>"
      ],
      "text/plain": [
       "   user_id    basket_id  day  item_id  quantity  sales_value  store_id  \\\n",
       "0     2375  26984851472    1  1004906         1         1.39       364   \n",
       "1     2375  26984851472    1  1033142         1         0.82       364   \n",
       "\n",
       "   retail_disc  trans_time  week_no  coupon_disc  coupon_match_disc  \n",
       "0         -0.6        1631        1          0.0                0.0  \n",
       "1          0.0        1631        1          0.0                0.0  "
      ]
     },
     "execution_count": 2,
     "metadata": {},
     "output_type": "execute_result"
    }
   ],
   "source": [
    "data = pd.read_csv('data/retail_train.csv')\n",
    "data.head(2)"
   ]
  },
  {
   "cell_type": "code",
   "execution_count": 3,
   "metadata": {
    "colab": {},
    "colab_type": "code",
    "id": "epcBZlgJC8Y0"
   },
   "outputs": [],
   "source": [
    "test_size_weeks = 3\n",
    "\n",
    "data_train = data[data['week_no'] < data['week_no'].max() - test_size_weeks]\n",
    "data_test = data[data['week_no'] >= data['week_no'].max() - test_size_weeks]"
   ]
  },
  {
   "cell_type": "markdown",
   "metadata": {
    "colab_type": "text",
    "id": "zlUUzLFeC8Y4"
   },
   "source": [
    "### Задание 1. Weighted Random Recommendation\n",
    "\n",
    "Напишите код для случайных рекоммендаций, в которых вероятность рекомендовать товар прямо пропорциональна логарифму продаж\n",
    "- Можно сэмплировать товары случайно, но пропорционально какому-либо весу\n",
    "- Например, прямопропорционально популярности. Вес = log(sales_sum товара)"
   ]
  },
  {
   "cell_type": "code",
   "execution_count": 4,
   "metadata": {
    "colab": {},
    "colab_type": "code",
    "id": "brMuCHolC8Y4"
   },
   "outputs": [],
   "source": [
    "def weighted_random_recommendation(items_weghted, n=5):\n",
    "    \"\"\"Случайные рекоммендации\n",
    "    \n",
    "    Input\n",
    "    -----\n",
    "    items_weights: pd.DataFrame\n",
    "        Датафрейм со столбцами item_id, weight. Сумма weight по всем товарам = 1\n",
    "    \"\"\"\n",
    "    \n",
    "    # Подсказка: необходимо модифицировать функцию random_recommendation()\n",
    "    # your_code\n",
    "    \n",
    "    items = np.array(items_weghted['item_id'])\n",
    "    items_weights = np.array(items_weghted['weight'])\n",
    "    recs = np.random.choice(items, size=n, replace=False, p=items_weights)\n",
    "    \n",
    "    return recs.tolist()"
   ]
  },
  {
   "cell_type": "code",
   "execution_count": 5,
   "metadata": {},
   "outputs": [
    {
     "data": {
      "text/plain": [
       "0.9999999999999999"
      ]
     },
     "execution_count": 5,
     "metadata": {},
     "output_type": "execute_result"
    }
   ],
   "source": [
    "items_weghted = data_train[['item_id', 'sales_value']].groupby(['item_id'], as_index=False).sum()\n",
    "\n",
    "items_weghted['sales_value'] = items_weghted['sales_value'].apply(lambda x: 0 if x <= 1 else np.log(x)) # отр.рез. зануляем\n",
    "items_weghted['sales_value'] = items_weghted['sales_value']/ (items_weghted['sales_value']).sum()\n",
    "items_weghted.rename(columns={'sales_value': 'weight'}, inplace=True)\n",
    "items_weghted['weight'].sum()"
   ]
  },
  {
   "cell_type": "markdown",
   "metadata": {},
   "source": [
    "Проверяем, чтобы по итогам не было отрицательного веса (для этого выше занулили получающиеся отрицательные значения)"
   ]
  },
  {
   "cell_type": "code",
   "execution_count": 6,
   "metadata": {},
   "outputs": [
    {
     "data": {
      "text/html": [
       "<div>\n",
       "<style scoped>\n",
       "    .dataframe tbody tr th:only-of-type {\n",
       "        vertical-align: middle;\n",
       "    }\n",
       "\n",
       "    .dataframe tbody tr th {\n",
       "        vertical-align: top;\n",
       "    }\n",
       "\n",
       "    .dataframe thead th {\n",
       "        text-align: right;\n",
       "    }\n",
       "</style>\n",
       "<table border=\"1\" class=\"dataframe\">\n",
       "  <thead>\n",
       "    <tr style=\"text-align: right;\">\n",
       "      <th></th>\n",
       "      <th>item_id</th>\n",
       "      <th>weight</th>\n",
       "    </tr>\n",
       "  </thead>\n",
       "  <tbody>\n",
       "  </tbody>\n",
       "</table>\n",
       "</div>"
      ],
      "text/plain": [
       "Empty DataFrame\n",
       "Columns: [item_id, weight]\n",
       "Index: []"
      ]
     },
     "execution_count": 6,
     "metadata": {},
     "output_type": "execute_result"
    }
   ],
   "source": [
    "items_weghted.loc[items_weghted['weight'] < 0]"
   ]
  },
  {
   "cell_type": "code",
   "execution_count": 7,
   "metadata": {},
   "outputs": [
    {
     "data": {
      "text/html": [
       "<div>\n",
       "<style scoped>\n",
       "    .dataframe tbody tr th:only-of-type {\n",
       "        vertical-align: middle;\n",
       "    }\n",
       "\n",
       "    .dataframe tbody tr th {\n",
       "        vertical-align: top;\n",
       "    }\n",
       "\n",
       "    .dataframe thead th {\n",
       "        text-align: right;\n",
       "    }\n",
       "</style>\n",
       "<table border=\"1\" class=\"dataframe\">\n",
       "  <thead>\n",
       "    <tr style=\"text-align: right;\">\n",
       "      <th></th>\n",
       "      <th>item_id</th>\n",
       "      <th>weight</th>\n",
       "    </tr>\n",
       "  </thead>\n",
       "  <tbody>\n",
       "    <tr>\n",
       "      <th>0</th>\n",
       "      <td>25671</td>\n",
       "      <td>0.000013</td>\n",
       "    </tr>\n",
       "    <tr>\n",
       "      <th>1</th>\n",
       "      <td>26081</td>\n",
       "      <td>0.000000</td>\n",
       "    </tr>\n",
       "    <tr>\n",
       "      <th>2</th>\n",
       "      <td>26093</td>\n",
       "      <td>0.000002</td>\n",
       "    </tr>\n",
       "  </tbody>\n",
       "</table>\n",
       "</div>"
      ],
      "text/plain": [
       "   item_id    weight\n",
       "0    25671  0.000013\n",
       "1    26081  0.000000\n",
       "2    26093  0.000002"
      ]
     },
     "execution_count": 7,
     "metadata": {},
     "output_type": "execute_result"
    }
   ],
   "source": [
    "items_weghted.head(3)"
   ]
  },
  {
   "cell_type": "code",
   "execution_count": 8,
   "metadata": {},
   "outputs": [
    {
     "data": {
      "text/html": [
       "<div>\n",
       "<style scoped>\n",
       "    .dataframe tbody tr th:only-of-type {\n",
       "        vertical-align: middle;\n",
       "    }\n",
       "\n",
       "    .dataframe tbody tr th {\n",
       "        vertical-align: top;\n",
       "    }\n",
       "\n",
       "    .dataframe thead th {\n",
       "        text-align: right;\n",
       "    }\n",
       "</style>\n",
       "<table border=\"1\" class=\"dataframe\">\n",
       "  <thead>\n",
       "    <tr style=\"text-align: right;\">\n",
       "      <th></th>\n",
       "      <th>user_id</th>\n",
       "      <th>actual</th>\n",
       "    </tr>\n",
       "  </thead>\n",
       "  <tbody>\n",
       "    <tr>\n",
       "      <th>0</th>\n",
       "      <td>1</td>\n",
       "      <td>[821867, 834484, 856942, 865456, 889248, 90795...</td>\n",
       "    </tr>\n",
       "    <tr>\n",
       "      <th>1</th>\n",
       "      <td>3</td>\n",
       "      <td>[835476, 851057, 872021, 878302, 879948, 90963...</td>\n",
       "    </tr>\n",
       "  </tbody>\n",
       "</table>\n",
       "</div>"
      ],
      "text/plain": [
       "   user_id                                             actual\n",
       "0        1  [821867, 834484, 856942, 865456, 889248, 90795...\n",
       "1        3  [835476, 851057, 872021, 878302, 879948, 90963..."
      ]
     },
     "execution_count": 8,
     "metadata": {},
     "output_type": "execute_result"
    }
   ],
   "source": [
    "result = data_test.groupby('user_id')['item_id'].unique().reset_index()\n",
    "result.columns=['user_id', 'actual']\n",
    "result.head(2)"
   ]
  },
  {
   "cell_type": "code",
   "execution_count": 9,
   "metadata": {
    "colab": {},
    "colab_type": "code",
    "id": "nK_AS3tmC8Y7",
    "scrolled": true
   },
   "outputs": [
    {
     "name": "stdout",
     "output_type": "stream",
     "text": [
      "Wall time: 5.01 s\n"
     ]
    },
    {
     "data": {
      "text/html": [
       "<div>\n",
       "<style scoped>\n",
       "    .dataframe tbody tr th:only-of-type {\n",
       "        vertical-align: middle;\n",
       "    }\n",
       "\n",
       "    .dataframe tbody tr th {\n",
       "        vertical-align: top;\n",
       "    }\n",
       "\n",
       "    .dataframe thead th {\n",
       "        text-align: right;\n",
       "    }\n",
       "</style>\n",
       "<table border=\"1\" class=\"dataframe\">\n",
       "  <thead>\n",
       "    <tr style=\"text-align: right;\">\n",
       "      <th></th>\n",
       "      <th>user_id</th>\n",
       "      <th>actual</th>\n",
       "      <th>weighted_random_recommendation</th>\n",
       "    </tr>\n",
       "  </thead>\n",
       "  <tbody>\n",
       "    <tr>\n",
       "      <th>0</th>\n",
       "      <td>1</td>\n",
       "      <td>[821867, 834484, 856942, 865456, 889248, 90795...</td>\n",
       "      <td>[5569201, 2287297, 973880, 13115515, 6773187]</td>\n",
       "    </tr>\n",
       "    <tr>\n",
       "      <th>1</th>\n",
       "      <td>3</td>\n",
       "      <td>[835476, 851057, 872021, 878302, 879948, 90963...</td>\n",
       "      <td>[1042564, 915545, 1074754, 1499569, 15483133]</td>\n",
       "    </tr>\n",
       "  </tbody>\n",
       "</table>\n",
       "</div>"
      ],
      "text/plain": [
       "   user_id                                             actual  \\\n",
       "0        1  [821867, 834484, 856942, 865456, 889248, 90795...   \n",
       "1        3  [835476, 851057, 872021, 878302, 879948, 90963...   \n",
       "\n",
       "                  weighted_random_recommendation  \n",
       "0  [5569201, 2287297, 973880, 13115515, 6773187]  \n",
       "1  [1042564, 915545, 1074754, 1499569, 15483133]  "
      ]
     },
     "execution_count": 9,
     "metadata": {},
     "output_type": "execute_result"
    }
   ],
   "source": [
    "%%time\n",
    "\n",
    "# your_code\n",
    "\n",
    "result['weighted_random_recommendation'] = result['user_id'].apply(lambda x: weighted_random_recommendation(items_weghted, n=5))\n",
    "\n",
    "result.head(2)"
   ]
  },
  {
   "cell_type": "code",
   "execution_count": 10,
   "metadata": {},
   "outputs": [
    {
     "data": {
      "text/plain": [
       "1.044496070230781e-05"
      ]
     },
     "execution_count": 10,
     "metadata": {},
     "output_type": "execute_result"
    }
   ],
   "source": [
    "items_weghted['weight'].median()"
   ]
  },
  {
   "cell_type": "code",
   "execution_count": 11,
   "metadata": {},
   "outputs": [
    {
     "data": {
      "text/plain": [
       "15510    True\n",
       "16982    True\n",
       "25553    True\n",
       "33262    True\n",
       "40052    True\n",
       "55470    True\n",
       "57258    True\n",
       "70817    True\n",
       "76292    True\n",
       "Name: weight, dtype: bool"
      ]
     },
     "execution_count": 11,
     "metadata": {},
     "output_type": "execute_result"
    }
   ],
   "source": [
    "items_weghted.loc[items_weghted['item_id'].isin([\n",
    "    999391, 1131625, 10344586, 6534178, 12754036, 908504, 6534178, 1069506, 6961519, 921514\n",
    "])]['weight'] > items_weghted['weight'].median()"
   ]
  },
  {
   "cell_type": "markdown",
   "metadata": {},
   "source": [
    "В рекомендациях первым двум пользователям товары с бОльшим весом чем медианное значение."
   ]
  },
  {
   "cell_type": "code",
   "execution_count": 12,
   "metadata": {},
   "outputs": [
    {
     "name": "stdout",
     "output_type": "stream",
     "text": [
      "В тестовом дата сете 2042 юзеров\n",
      "В тестовом дата сете 0 новых юзеров\n"
     ]
    }
   ],
   "source": [
    "test_users = result.shape[0]\n",
    "new_test_users = len(set(data_test['user_id']) - set(data_train['user_id']))\n",
    "\n",
    "print('В тестовом дата сете {} юзеров'.format(test_users))\n",
    "print('В тестовом дата сете {} новых юзеров'.format(new_test_users))"
   ]
  },
  {
   "cell_type": "markdown",
   "metadata": {},
   "source": [
    "### 1.1 Random recommendation"
   ]
  },
  {
   "cell_type": "code",
   "execution_count": 13,
   "metadata": {},
   "outputs": [],
   "source": [
    "def random_recommendation(items, n=5):\n",
    "    \"\"\"Случайные рекоммендации\"\"\"\n",
    "    \n",
    "    items = np.array(items)\n",
    "    recs = np.random.choice(items, size=n, replace=False)\n",
    "    \n",
    "    return recs.tolist()"
   ]
  },
  {
   "cell_type": "code",
   "execution_count": 14,
   "metadata": {
    "scrolled": false
   },
   "outputs": [
    {
     "name": "stdout",
     "output_type": "stream",
     "text": [
      "Wall time: 5.7 s\n"
     ]
    },
    {
     "data": {
      "text/html": [
       "<div>\n",
       "<style scoped>\n",
       "    .dataframe tbody tr th:only-of-type {\n",
       "        vertical-align: middle;\n",
       "    }\n",
       "\n",
       "    .dataframe tbody tr th {\n",
       "        vertical-align: top;\n",
       "    }\n",
       "\n",
       "    .dataframe thead th {\n",
       "        text-align: right;\n",
       "    }\n",
       "</style>\n",
       "<table border=\"1\" class=\"dataframe\">\n",
       "  <thead>\n",
       "    <tr style=\"text-align: right;\">\n",
       "      <th></th>\n",
       "      <th>user_id</th>\n",
       "      <th>actual</th>\n",
       "      <th>weighted_random_recommendation</th>\n",
       "      <th>random_recommendation</th>\n",
       "    </tr>\n",
       "  </thead>\n",
       "  <tbody>\n",
       "    <tr>\n",
       "      <th>0</th>\n",
       "      <td>1</td>\n",
       "      <td>[821867, 834484, 856942, 865456, 889248, 90795...</td>\n",
       "      <td>[5569201, 2287297, 973880, 13115515, 6773187]</td>\n",
       "      <td>[1040199, 12605392, 856221, 2418699, 944454]</td>\n",
       "    </tr>\n",
       "    <tr>\n",
       "      <th>1</th>\n",
       "      <td>3</td>\n",
       "      <td>[835476, 851057, 872021, 878302, 879948, 90963...</td>\n",
       "      <td>[1042564, 915545, 1074754, 1499569, 15483133]</td>\n",
       "      <td>[970747, 1100856, 1339110, 9526269, 15717033]</td>\n",
       "    </tr>\n",
       "  </tbody>\n",
       "</table>\n",
       "</div>"
      ],
      "text/plain": [
       "   user_id                                             actual  \\\n",
       "0        1  [821867, 834484, 856942, 865456, 889248, 90795...   \n",
       "1        3  [835476, 851057, 872021, 878302, 879948, 90963...   \n",
       "\n",
       "                  weighted_random_recommendation  \\\n",
       "0  [5569201, 2287297, 973880, 13115515, 6773187]   \n",
       "1  [1042564, 915545, 1074754, 1499569, 15483133]   \n",
       "\n",
       "                           random_recommendation  \n",
       "0   [1040199, 12605392, 856221, 2418699, 944454]  \n",
       "1  [970747, 1100856, 1339110, 9526269, 15717033]  "
      ]
     },
     "execution_count": 14,
     "metadata": {},
     "output_type": "execute_result"
    }
   ],
   "source": [
    "%%time\n",
    "\n",
    "items = data_train.item_id.unique()\n",
    "\n",
    "result['random_recommendation'] = result['user_id'].apply(lambda x: random_recommendation(items, n=5))\n",
    "\n",
    "result.head(2)"
   ]
  },
  {
   "cell_type": "code",
   "execution_count": 15,
   "metadata": {},
   "outputs": [
    {
     "data": {
      "text/html": [
       "<div>\n",
       "<style scoped>\n",
       "    .dataframe tbody tr th:only-of-type {\n",
       "        vertical-align: middle;\n",
       "    }\n",
       "\n",
       "    .dataframe tbody tr th {\n",
       "        vertical-align: top;\n",
       "    }\n",
       "\n",
       "    .dataframe thead th {\n",
       "        text-align: right;\n",
       "    }\n",
       "</style>\n",
       "<table border=\"1\" class=\"dataframe\">\n",
       "  <thead>\n",
       "    <tr style=\"text-align: right;\">\n",
       "      <th></th>\n",
       "      <th>item_id</th>\n",
       "      <th>n_sold</th>\n",
       "    </tr>\n",
       "  </thead>\n",
       "  <tbody>\n",
       "    <tr>\n",
       "      <th>0</th>\n",
       "      <td>25671</td>\n",
       "      <td>6</td>\n",
       "    </tr>\n",
       "    <tr>\n",
       "      <th>1</th>\n",
       "      <td>26081</td>\n",
       "      <td>1</td>\n",
       "    </tr>\n",
       "    <tr>\n",
       "      <th>2</th>\n",
       "      <td>26093</td>\n",
       "      <td>1</td>\n",
       "    </tr>\n",
       "    <tr>\n",
       "      <th>3</th>\n",
       "      <td>26190</td>\n",
       "      <td>1</td>\n",
       "    </tr>\n",
       "    <tr>\n",
       "      <th>4</th>\n",
       "      <td>26355</td>\n",
       "      <td>2</td>\n",
       "    </tr>\n",
       "  </tbody>\n",
       "</table>\n",
       "</div>"
      ],
      "text/plain": [
       "   item_id  n_sold\n",
       "0    25671       6\n",
       "1    26081       1\n",
       "2    26093       1\n",
       "3    26190       1\n",
       "4    26355       2"
      ]
     },
     "execution_count": 15,
     "metadata": {},
     "output_type": "execute_result"
    }
   ],
   "source": [
    "popularity = data_train.groupby('item_id')['quantity'].sum().reset_index()\n",
    "popularity.rename(columns={'quantity': 'n_sold'}, inplace=True)\n",
    "\n",
    "popularity.head()"
   ]
  },
  {
   "cell_type": "code",
   "execution_count": 16,
   "metadata": {},
   "outputs": [],
   "source": [
    "top_5000 = popularity.sort_values('n_sold', ascending=False).head(5000).item_id.tolist()"
   ]
  },
  {
   "cell_type": "code",
   "execution_count": 17,
   "metadata": {
    "scrolled": true
   },
   "outputs": [
    {
     "data": {
      "text/html": [
       "<div>\n",
       "<style scoped>\n",
       "    .dataframe tbody tr th:only-of-type {\n",
       "        vertical-align: middle;\n",
       "    }\n",
       "\n",
       "    .dataframe tbody tr th {\n",
       "        vertical-align: top;\n",
       "    }\n",
       "\n",
       "    .dataframe thead th {\n",
       "        text-align: right;\n",
       "    }\n",
       "</style>\n",
       "<table border=\"1\" class=\"dataframe\">\n",
       "  <thead>\n",
       "    <tr style=\"text-align: right;\">\n",
       "      <th></th>\n",
       "      <th>user_id</th>\n",
       "      <th>basket_id</th>\n",
       "      <th>day</th>\n",
       "      <th>item_id</th>\n",
       "      <th>quantity</th>\n",
       "      <th>sales_value</th>\n",
       "      <th>store_id</th>\n",
       "      <th>retail_disc</th>\n",
       "      <th>trans_time</th>\n",
       "      <th>week_no</th>\n",
       "      <th>coupon_disc</th>\n",
       "      <th>coupon_match_disc</th>\n",
       "    </tr>\n",
       "  </thead>\n",
       "  <tbody>\n",
       "    <tr>\n",
       "      <th>0</th>\n",
       "      <td>2375</td>\n",
       "      <td>26984851472</td>\n",
       "      <td>1</td>\n",
       "      <td>1004906</td>\n",
       "      <td>1</td>\n",
       "      <td>1.39</td>\n",
       "      <td>364</td>\n",
       "      <td>-0.60</td>\n",
       "      <td>1631</td>\n",
       "      <td>1</td>\n",
       "      <td>0.0</td>\n",
       "      <td>0.0</td>\n",
       "    </tr>\n",
       "    <tr>\n",
       "      <th>1</th>\n",
       "      <td>2375</td>\n",
       "      <td>26984851472</td>\n",
       "      <td>1</td>\n",
       "      <td>1033142</td>\n",
       "      <td>1</td>\n",
       "      <td>0.82</td>\n",
       "      <td>364</td>\n",
       "      <td>0.00</td>\n",
       "      <td>1631</td>\n",
       "      <td>1</td>\n",
       "      <td>0.0</td>\n",
       "      <td>0.0</td>\n",
       "    </tr>\n",
       "    <tr>\n",
       "      <th>2</th>\n",
       "      <td>2375</td>\n",
       "      <td>26984851472</td>\n",
       "      <td>1</td>\n",
       "      <td>1036325</td>\n",
       "      <td>1</td>\n",
       "      <td>0.99</td>\n",
       "      <td>364</td>\n",
       "      <td>-0.30</td>\n",
       "      <td>1631</td>\n",
       "      <td>1</td>\n",
       "      <td>0.0</td>\n",
       "      <td>0.0</td>\n",
       "    </tr>\n",
       "    <tr>\n",
       "      <th>3</th>\n",
       "      <td>2375</td>\n",
       "      <td>26984851472</td>\n",
       "      <td>1</td>\n",
       "      <td>1082185</td>\n",
       "      <td>1</td>\n",
       "      <td>1.21</td>\n",
       "      <td>364</td>\n",
       "      <td>0.00</td>\n",
       "      <td>1631</td>\n",
       "      <td>1</td>\n",
       "      <td>0.0</td>\n",
       "      <td>0.0</td>\n",
       "    </tr>\n",
       "    <tr>\n",
       "      <th>4</th>\n",
       "      <td>2375</td>\n",
       "      <td>26984851472</td>\n",
       "      <td>1</td>\n",
       "      <td>8160430</td>\n",
       "      <td>1</td>\n",
       "      <td>1.50</td>\n",
       "      <td>364</td>\n",
       "      <td>-0.39</td>\n",
       "      <td>1631</td>\n",
       "      <td>1</td>\n",
       "      <td>0.0</td>\n",
       "      <td>0.0</td>\n",
       "    </tr>\n",
       "    <tr>\n",
       "      <th>...</th>\n",
       "      <td>...</td>\n",
       "      <td>...</td>\n",
       "      <td>...</td>\n",
       "      <td>...</td>\n",
       "      <td>...</td>\n",
       "      <td>...</td>\n",
       "      <td>...</td>\n",
       "      <td>...</td>\n",
       "      <td>...</td>\n",
       "      <td>...</td>\n",
       "      <td>...</td>\n",
       "      <td>...</td>\n",
       "    </tr>\n",
       "    <tr>\n",
       "      <th>95</th>\n",
       "      <td>1060</td>\n",
       "      <td>26985040735</td>\n",
       "      <td>1</td>\n",
       "      <td>9553288</td>\n",
       "      <td>1</td>\n",
       "      <td>8.49</td>\n",
       "      <td>315</td>\n",
       "      <td>0.00</td>\n",
       "      <td>1251</td>\n",
       "      <td>1</td>\n",
       "      <td>0.0</td>\n",
       "      <td>0.0</td>\n",
       "    </tr>\n",
       "    <tr>\n",
       "      <th>96</th>\n",
       "      <td>1351</td>\n",
       "      <td>26985052379</td>\n",
       "      <td>1</td>\n",
       "      <td>903230</td>\n",
       "      <td>1</td>\n",
       "      <td>0.99</td>\n",
       "      <td>447</td>\n",
       "      <td>-0.30</td>\n",
       "      <td>1955</td>\n",
       "      <td>1</td>\n",
       "      <td>0.0</td>\n",
       "      <td>0.0</td>\n",
       "    </tr>\n",
       "    <tr>\n",
       "      <th>97</th>\n",
       "      <td>744</td>\n",
       "      <td>26985165432</td>\n",
       "      <td>1</td>\n",
       "      <td>5978648</td>\n",
       "      <td>0</td>\n",
       "      <td>0.00</td>\n",
       "      <td>31582</td>\n",
       "      <td>0.00</td>\n",
       "      <td>1119</td>\n",
       "      <td>1</td>\n",
       "      <td>0.0</td>\n",
       "      <td>0.0</td>\n",
       "    </tr>\n",
       "    <tr>\n",
       "      <th>98</th>\n",
       "      <td>212</td>\n",
       "      <td>26985205886</td>\n",
       "      <td>1</td>\n",
       "      <td>822346</td>\n",
       "      <td>1</td>\n",
       "      <td>1.25</td>\n",
       "      <td>288</td>\n",
       "      <td>-0.34</td>\n",
       "      <td>1341</td>\n",
       "      <td>1</td>\n",
       "      <td>0.0</td>\n",
       "      <td>0.0</td>\n",
       "    </tr>\n",
       "    <tr>\n",
       "      <th>99</th>\n",
       "      <td>212</td>\n",
       "      <td>26985205886</td>\n",
       "      <td>1</td>\n",
       "      <td>830887</td>\n",
       "      <td>1</td>\n",
       "      <td>2.29</td>\n",
       "      <td>288</td>\n",
       "      <td>-0.70</td>\n",
       "      <td>1341</td>\n",
       "      <td>1</td>\n",
       "      <td>0.0</td>\n",
       "      <td>0.0</td>\n",
       "    </tr>\n",
       "  </tbody>\n",
       "</table>\n",
       "<p>100 rows × 12 columns</p>\n",
       "</div>"
      ],
      "text/plain": [
       "    user_id    basket_id  day  item_id  quantity  sales_value  store_id  \\\n",
       "0      2375  26984851472    1  1004906         1         1.39       364   \n",
       "1      2375  26984851472    1  1033142         1         0.82       364   \n",
       "2      2375  26984851472    1  1036325         1         0.99       364   \n",
       "3      2375  26984851472    1  1082185         1         1.21       364   \n",
       "4      2375  26984851472    1  8160430         1         1.50       364   \n",
       "..      ...          ...  ...      ...       ...          ...       ...   \n",
       "95     1060  26985040735    1  9553288         1         8.49       315   \n",
       "96     1351  26985052379    1   903230         1         0.99       447   \n",
       "97      744  26985165432    1  5978648         0         0.00     31582   \n",
       "98      212  26985205886    1   822346         1         1.25       288   \n",
       "99      212  26985205886    1   830887         1         2.29       288   \n",
       "\n",
       "    retail_disc  trans_time  week_no  coupon_disc  coupon_match_disc  \n",
       "0         -0.60        1631        1          0.0                0.0  \n",
       "1          0.00        1631        1          0.0                0.0  \n",
       "2         -0.30        1631        1          0.0                0.0  \n",
       "3          0.00        1631        1          0.0                0.0  \n",
       "4         -0.39        1631        1          0.0                0.0  \n",
       "..          ...         ...      ...          ...                ...  \n",
       "95         0.00        1251        1          0.0                0.0  \n",
       "96        -0.30        1955        1          0.0                0.0  \n",
       "97         0.00        1119        1          0.0                0.0  \n",
       "98        -0.34        1341        1          0.0                0.0  \n",
       "99        -0.70        1341        1          0.0                0.0  \n",
       "\n",
       "[100 rows x 12 columns]"
      ]
     },
     "execution_count": 17,
     "metadata": {},
     "output_type": "execute_result"
    }
   ],
   "source": [
    "data_train.head(100)"
   ]
  },
  {
   "cell_type": "code",
   "execution_count": 18,
   "metadata": {},
   "outputs": [
    {
     "name": "stderr",
     "output_type": "stream",
     "text": [
      "C:\\Users\\LMAXL\\AppData\\Roaming\\Python\\Python37\\site-packages\\pandas\\core\\indexing.py:1720: SettingWithCopyWarning: \n",
      "A value is trying to be set on a copy of a slice from a DataFrame.\n",
      "Try using .loc[row_indexer,col_indexer] = value instead\n",
      "\n",
      "See the caveats in the documentation: https://pandas.pydata.org/pandas-docs/stable/user_guide/indexing.html#returning-a-view-versus-a-copy\n",
      "  self._setitem_single_column(loc, value, pi)\n"
     ]
    },
    {
     "data": {
      "text/html": [
       "<div>\n",
       "<style scoped>\n",
       "    .dataframe tbody tr th:only-of-type {\n",
       "        vertical-align: middle;\n",
       "    }\n",
       "\n",
       "    .dataframe tbody tr th {\n",
       "        vertical-align: top;\n",
       "    }\n",
       "\n",
       "    .dataframe thead th {\n",
       "        text-align: right;\n",
       "    }\n",
       "</style>\n",
       "<table border=\"1\" class=\"dataframe\">\n",
       "  <thead>\n",
       "    <tr style=\"text-align: right;\">\n",
       "      <th></th>\n",
       "      <th>user_id</th>\n",
       "      <th>basket_id</th>\n",
       "      <th>day</th>\n",
       "      <th>item_id</th>\n",
       "      <th>quantity</th>\n",
       "      <th>sales_value</th>\n",
       "      <th>store_id</th>\n",
       "      <th>retail_disc</th>\n",
       "      <th>trans_time</th>\n",
       "      <th>week_no</th>\n",
       "      <th>coupon_disc</th>\n",
       "      <th>coupon_match_disc</th>\n",
       "    </tr>\n",
       "  </thead>\n",
       "  <tbody>\n",
       "    <tr>\n",
       "      <th>0</th>\n",
       "      <td>2375</td>\n",
       "      <td>26984851472</td>\n",
       "      <td>1</td>\n",
       "      <td>1004906</td>\n",
       "      <td>1</td>\n",
       "      <td>1.39</td>\n",
       "      <td>364</td>\n",
       "      <td>-0.60</td>\n",
       "      <td>1631</td>\n",
       "      <td>1</td>\n",
       "      <td>0.0</td>\n",
       "      <td>0.0</td>\n",
       "    </tr>\n",
       "    <tr>\n",
       "      <th>1</th>\n",
       "      <td>2375</td>\n",
       "      <td>26984851472</td>\n",
       "      <td>1</td>\n",
       "      <td>1033142</td>\n",
       "      <td>1</td>\n",
       "      <td>0.82</td>\n",
       "      <td>364</td>\n",
       "      <td>0.00</td>\n",
       "      <td>1631</td>\n",
       "      <td>1</td>\n",
       "      <td>0.0</td>\n",
       "      <td>0.0</td>\n",
       "    </tr>\n",
       "    <tr>\n",
       "      <th>2</th>\n",
       "      <td>2375</td>\n",
       "      <td>26984851472</td>\n",
       "      <td>1</td>\n",
       "      <td>1036325</td>\n",
       "      <td>1</td>\n",
       "      <td>0.99</td>\n",
       "      <td>364</td>\n",
       "      <td>-0.30</td>\n",
       "      <td>1631</td>\n",
       "      <td>1</td>\n",
       "      <td>0.0</td>\n",
       "      <td>0.0</td>\n",
       "    </tr>\n",
       "    <tr>\n",
       "      <th>3</th>\n",
       "      <td>2375</td>\n",
       "      <td>26984851472</td>\n",
       "      <td>1</td>\n",
       "      <td>1082185</td>\n",
       "      <td>1</td>\n",
       "      <td>1.21</td>\n",
       "      <td>364</td>\n",
       "      <td>0.00</td>\n",
       "      <td>1631</td>\n",
       "      <td>1</td>\n",
       "      <td>0.0</td>\n",
       "      <td>0.0</td>\n",
       "    </tr>\n",
       "    <tr>\n",
       "      <th>4</th>\n",
       "      <td>2375</td>\n",
       "      <td>26984851472</td>\n",
       "      <td>1</td>\n",
       "      <td>8160430</td>\n",
       "      <td>1</td>\n",
       "      <td>1.50</td>\n",
       "      <td>364</td>\n",
       "      <td>-0.39</td>\n",
       "      <td>1631</td>\n",
       "      <td>1</td>\n",
       "      <td>0.0</td>\n",
       "      <td>0.0</td>\n",
       "    </tr>\n",
       "    <tr>\n",
       "      <th>...</th>\n",
       "      <td>...</td>\n",
       "      <td>...</td>\n",
       "      <td>...</td>\n",
       "      <td>...</td>\n",
       "      <td>...</td>\n",
       "      <td>...</td>\n",
       "      <td>...</td>\n",
       "      <td>...</td>\n",
       "      <td>...</td>\n",
       "      <td>...</td>\n",
       "      <td>...</td>\n",
       "      <td>...</td>\n",
       "    </tr>\n",
       "    <tr>\n",
       "      <th>95</th>\n",
       "      <td>1060</td>\n",
       "      <td>26985040735</td>\n",
       "      <td>1</td>\n",
       "      <td>9553288</td>\n",
       "      <td>1</td>\n",
       "      <td>8.49</td>\n",
       "      <td>315</td>\n",
       "      <td>0.00</td>\n",
       "      <td>1251</td>\n",
       "      <td>1</td>\n",
       "      <td>0.0</td>\n",
       "      <td>0.0</td>\n",
       "    </tr>\n",
       "    <tr>\n",
       "      <th>96</th>\n",
       "      <td>1351</td>\n",
       "      <td>26985052379</td>\n",
       "      <td>1</td>\n",
       "      <td>903230</td>\n",
       "      <td>1</td>\n",
       "      <td>0.99</td>\n",
       "      <td>447</td>\n",
       "      <td>-0.30</td>\n",
       "      <td>1955</td>\n",
       "      <td>1</td>\n",
       "      <td>0.0</td>\n",
       "      <td>0.0</td>\n",
       "    </tr>\n",
       "    <tr>\n",
       "      <th>97</th>\n",
       "      <td>744</td>\n",
       "      <td>26985165432</td>\n",
       "      <td>1</td>\n",
       "      <td>6666</td>\n",
       "      <td>0</td>\n",
       "      <td>0.00</td>\n",
       "      <td>31582</td>\n",
       "      <td>0.00</td>\n",
       "      <td>1119</td>\n",
       "      <td>1</td>\n",
       "      <td>0.0</td>\n",
       "      <td>0.0</td>\n",
       "    </tr>\n",
       "    <tr>\n",
       "      <th>98</th>\n",
       "      <td>212</td>\n",
       "      <td>26985205886</td>\n",
       "      <td>1</td>\n",
       "      <td>822346</td>\n",
       "      <td>1</td>\n",
       "      <td>1.25</td>\n",
       "      <td>288</td>\n",
       "      <td>-0.34</td>\n",
       "      <td>1341</td>\n",
       "      <td>1</td>\n",
       "      <td>0.0</td>\n",
       "      <td>0.0</td>\n",
       "    </tr>\n",
       "    <tr>\n",
       "      <th>99</th>\n",
       "      <td>212</td>\n",
       "      <td>26985205886</td>\n",
       "      <td>1</td>\n",
       "      <td>830887</td>\n",
       "      <td>1</td>\n",
       "      <td>2.29</td>\n",
       "      <td>288</td>\n",
       "      <td>-0.70</td>\n",
       "      <td>1341</td>\n",
       "      <td>1</td>\n",
       "      <td>0.0</td>\n",
       "      <td>0.0</td>\n",
       "    </tr>\n",
       "  </tbody>\n",
       "</table>\n",
       "<p>100 rows × 12 columns</p>\n",
       "</div>"
      ],
      "text/plain": [
       "    user_id    basket_id  day  item_id  quantity  sales_value  store_id  \\\n",
       "0      2375  26984851472    1  1004906         1         1.39       364   \n",
       "1      2375  26984851472    1  1033142         1         0.82       364   \n",
       "2      2375  26984851472    1  1036325         1         0.99       364   \n",
       "3      2375  26984851472    1  1082185         1         1.21       364   \n",
       "4      2375  26984851472    1  8160430         1         1.50       364   \n",
       "..      ...          ...  ...      ...       ...          ...       ...   \n",
       "95     1060  26985040735    1  9553288         1         8.49       315   \n",
       "96     1351  26985052379    1   903230         1         0.99       447   \n",
       "97      744  26985165432    1     6666         0         0.00     31582   \n",
       "98      212  26985205886    1   822346         1         1.25       288   \n",
       "99      212  26985205886    1   830887         1         2.29       288   \n",
       "\n",
       "    retail_disc  trans_time  week_no  coupon_disc  coupon_match_disc  \n",
       "0         -0.60        1631        1          0.0                0.0  \n",
       "1          0.00        1631        1          0.0                0.0  \n",
       "2         -0.30        1631        1          0.0                0.0  \n",
       "3          0.00        1631        1          0.0                0.0  \n",
       "4         -0.39        1631        1          0.0                0.0  \n",
       "..          ...         ...      ...          ...                ...  \n",
       "95         0.00        1251        1          0.0                0.0  \n",
       "96        -0.30        1955        1          0.0                0.0  \n",
       "97         0.00        1119        1          0.0                0.0  \n",
       "98        -0.34        1341        1          0.0                0.0  \n",
       "99        -0.70        1341        1          0.0                0.0  \n",
       "\n",
       "[100 rows x 12 columns]"
      ]
     },
     "execution_count": 18,
     "metadata": {},
     "output_type": "execute_result"
    }
   ],
   "source": [
    "# Заведем фиктивный item_id (если юзер покупал товары из топ-5000, то он \"купил\" такой товар)\n",
    "data_train.loc[ ~ data_train['item_id'].isin(top_5000), 'item_id'] = 6666\n",
    "data_train.head(100)"
   ]
  },
  {
   "cell_type": "code",
   "execution_count": 19,
   "metadata": {},
   "outputs": [],
   "source": [
    "user_item_matrix = pd.pivot_table(data_train, \n",
    "                                  index='user_id', columns='item_id', \n",
    "                                  values='quantity',\n",
    "                                  aggfunc='count', \n",
    "                                  fill_value=0\n",
    "                                 )\n",
    "\n",
    "user_item_matrix[user_item_matrix > 0] = 1 # так как в итоге хотим предсказать \n",
    "\n",
    "user_item_matrix = user_item_matrix.astype(float) # необходимый тип матрицы для implicit\n",
    "\n",
    "# переведем в формат sparse matrix\n",
    "sparse_user_item = csr_matrix(user_item_matrix).tocsr()\n",
    "\n"
   ]
  },
  {
   "cell_type": "code",
   "execution_count": 20,
   "metadata": {},
   "outputs": [
    {
     "data": {
      "text/plain": [
       "(2499, 5001)"
      ]
     },
     "execution_count": 20,
     "metadata": {},
     "output_type": "execute_result"
    }
   ],
   "source": [
    "user_item_matrix.shape"
   ]
  },
  {
   "cell_type": "code",
   "execution_count": 21,
   "metadata": {},
   "outputs": [
    {
     "data": {
      "text/plain": [
       "5.33770796861036"
      ]
     },
     "execution_count": 21,
     "metadata": {},
     "output_type": "execute_result"
    }
   ],
   "source": [
    "user_item_matrix.sum().sum() / (user_item_matrix.shape[0] * user_item_matrix.shape[1]) * 100"
   ]
  },
  {
   "cell_type": "code",
   "execution_count": 22,
   "metadata": {},
   "outputs": [],
   "source": [
    "# создаем словари мапинга между id бизнеса к строчному id матрицы\n",
    "\n",
    "userids = user_item_matrix.index.values\n",
    "itemids = user_item_matrix.columns.values\n",
    "\n",
    "matrix_userids = np.arange(len(userids))\n",
    "matrix_itemids = np.arange(len(itemids))\n",
    "\n",
    "id_to_itemid = dict(zip(matrix_itemids, itemids))\n",
    "id_to_userid = dict(zip(matrix_userids, userids))\n",
    "\n",
    "itemid_to_id = dict(zip(itemids, matrix_itemids))\n",
    "userid_to_id = dict(zip(userids, matrix_userids))"
   ]
  },
  {
   "cell_type": "markdown",
   "metadata": {
    "colab_type": "text",
    "id": "igDU0j1cC8ZH"
   },
   "source": [
    "## Задание 2. Улучшение бейзлайнов и ItemItem\n",
    "\n",
    "- Попробуйте улучшить бейзлайны, считая случаный на топ-5000 товаров\n",
    "- Попробуйте улучшить разные варианты ItemItemRecommender, выбирая число соседей $K$."
   ]
  },
  {
   "cell_type": "code",
   "execution_count": 23,
   "metadata": {
    "colab": {},
    "colab_type": "code",
    "id": "zYBR3cMPC8ZH"
   },
   "outputs": [],
   "source": [
    "# your_code "
   ]
  },
  {
   "cell_type": "markdown",
   "metadata": {},
   "source": [
    "### 1.1a  Home work: Random recommendation in TOP 5K items"
   ]
  },
  {
   "cell_type": "code",
   "execution_count": 24,
   "metadata": {
    "scrolled": false
   },
   "outputs": [
    {
     "name": "stdout",
     "output_type": "stream",
     "text": [
      "Wall time: 1.31 s\n"
     ]
    },
    {
     "data": {
      "text/html": [
       "<div>\n",
       "<style scoped>\n",
       "    .dataframe tbody tr th:only-of-type {\n",
       "        vertical-align: middle;\n",
       "    }\n",
       "\n",
       "    .dataframe tbody tr th {\n",
       "        vertical-align: top;\n",
       "    }\n",
       "\n",
       "    .dataframe thead th {\n",
       "        text-align: right;\n",
       "    }\n",
       "</style>\n",
       "<table border=\"1\" class=\"dataframe\">\n",
       "  <thead>\n",
       "    <tr style=\"text-align: right;\">\n",
       "      <th></th>\n",
       "      <th>user_id</th>\n",
       "      <th>actual</th>\n",
       "      <th>weighted_random_recommendation</th>\n",
       "      <th>random_recommendation</th>\n",
       "      <th>random_recommendation of TOP 5000</th>\n",
       "    </tr>\n",
       "  </thead>\n",
       "  <tbody>\n",
       "    <tr>\n",
       "      <th>0</th>\n",
       "      <td>1</td>\n",
       "      <td>[821867, 834484, 856942, 865456, 889248, 90795...</td>\n",
       "      <td>[5569201, 2287297, 973880, 13115515, 6773187]</td>\n",
       "      <td>[1040199, 12605392, 856221, 2418699, 944454]</td>\n",
       "      <td>[5592610, 1000672, 12731436, 907892, 1139525]</td>\n",
       "    </tr>\n",
       "    <tr>\n",
       "      <th>1</th>\n",
       "      <td>3</td>\n",
       "      <td>[835476, 851057, 872021, 878302, 879948, 90963...</td>\n",
       "      <td>[1042564, 915545, 1074754, 1499569, 15483133]</td>\n",
       "      <td>[970747, 1100856, 1339110, 9526269, 15717033]</td>\n",
       "      <td>[9524291, 870327, 879876, 977658, 1067419]</td>\n",
       "    </tr>\n",
       "  </tbody>\n",
       "</table>\n",
       "</div>"
      ],
      "text/plain": [
       "   user_id                                             actual  \\\n",
       "0        1  [821867, 834484, 856942, 865456, 889248, 90795...   \n",
       "1        3  [835476, 851057, 872021, 878302, 879948, 90963...   \n",
       "\n",
       "                  weighted_random_recommendation  \\\n",
       "0  [5569201, 2287297, 973880, 13115515, 6773187]   \n",
       "1  [1042564, 915545, 1074754, 1499569, 15483133]   \n",
       "\n",
       "                           random_recommendation  \\\n",
       "0   [1040199, 12605392, 856221, 2418699, 944454]   \n",
       "1  [970747, 1100856, 1339110, 9526269, 15717033]   \n",
       "\n",
       "               random_recommendation of TOP 5000  \n",
       "0  [5592610, 1000672, 12731436, 907892, 1139525]  \n",
       "1     [9524291, 870327, 879876, 977658, 1067419]  "
      ]
     },
     "execution_count": 24,
     "metadata": {},
     "output_type": "execute_result"
    }
   ],
   "source": [
    "%%time\n",
    "\n",
    "items = data_train.item_id.unique()\n",
    "\n",
    "result['random_recommendation of TOP 5000'] = result['user_id'].apply(lambda x: random_recommendation(top_5000, n=5))\n",
    "\n",
    "result.head(2)"
   ]
  },
  {
   "cell_type": "markdown",
   "metadata": {},
   "source": [
    "### Weighted Random recommendation in TOP 5K items"
   ]
  },
  {
   "cell_type": "code",
   "execution_count": null,
   "metadata": {},
   "outputs": [],
   "source": []
  },
  {
   "cell_type": "code",
   "execution_count": 25,
   "metadata": {},
   "outputs": [
    {
     "data": {
      "text/plain": [
       "1.0"
      ]
     },
     "execution_count": 25,
     "metadata": {},
     "output_type": "execute_result"
    }
   ],
   "source": [
    "items_weghted_5000 = data_train[['item_id', 'sales_value']].groupby(['item_id'], as_index=False).sum()\n",
    "items_weghted_5000 = items_weghted_5000.loc[items_weghted_5000['item_id'].isin(top_5000)]\n",
    "items_weghted_5000['sales_value'] = items_weghted_5000['sales_value'].apply(lambda x: 0 if x <= 1 else np.log(x)) # отр.рез. зануляем\n",
    "items_weghted_5000['sales_value'] = items_weghted_5000['sales_value']/ (items_weghted_5000['sales_value']).sum()\n",
    "items_weghted_5000.rename(columns={'sales_value': 'weight'}, inplace=True)\n",
    "items_weghted_5000['weight'].sum()"
   ]
  },
  {
   "cell_type": "code",
   "execution_count": 26,
   "metadata": {
    "colab": {},
    "colab_type": "code",
    "id": "nK_AS3tmC8Y7",
    "scrolled": true
   },
   "outputs": [
    {
     "name": "stdout",
     "output_type": "stream",
     "text": [
      "Wall time: 529 ms\n"
     ]
    },
    {
     "data": {
      "text/html": [
       "<div>\n",
       "<style scoped>\n",
       "    .dataframe tbody tr th:only-of-type {\n",
       "        vertical-align: middle;\n",
       "    }\n",
       "\n",
       "    .dataframe tbody tr th {\n",
       "        vertical-align: top;\n",
       "    }\n",
       "\n",
       "    .dataframe thead th {\n",
       "        text-align: right;\n",
       "    }\n",
       "</style>\n",
       "<table border=\"1\" class=\"dataframe\">\n",
       "  <thead>\n",
       "    <tr style=\"text-align: right;\">\n",
       "      <th></th>\n",
       "      <th>user_id</th>\n",
       "      <th>actual</th>\n",
       "      <th>weighted_random_recommendation</th>\n",
       "      <th>random_recommendation</th>\n",
       "      <th>random_recommendation of TOP 5000</th>\n",
       "      <th>weighted_random_recommendation of TOP 5K</th>\n",
       "    </tr>\n",
       "  </thead>\n",
       "  <tbody>\n",
       "    <tr>\n",
       "      <th>0</th>\n",
       "      <td>1</td>\n",
       "      <td>[821867, 834484, 856942, 865456, 889248, 90795...</td>\n",
       "      <td>[5569201, 2287297, 973880, 13115515, 6773187]</td>\n",
       "      <td>[1040199, 12605392, 856221, 2418699, 944454]</td>\n",
       "      <td>[5592610, 1000672, 12731436, 907892, 1139525]</td>\n",
       "      <td>[978354, 1058939, 5569379, 1013826, 1065017]</td>\n",
       "    </tr>\n",
       "    <tr>\n",
       "      <th>1</th>\n",
       "      <td>3</td>\n",
       "      <td>[835476, 851057, 872021, 878302, 879948, 90963...</td>\n",
       "      <td>[1042564, 915545, 1074754, 1499569, 15483133]</td>\n",
       "      <td>[970747, 1100856, 1339110, 9526269, 15717033]</td>\n",
       "      <td>[9524291, 870327, 879876, 977658, 1067419]</td>\n",
       "      <td>[1075470, 872417, 6463789, 5578547, 820486]</td>\n",
       "    </tr>\n",
       "  </tbody>\n",
       "</table>\n",
       "</div>"
      ],
      "text/plain": [
       "   user_id                                             actual  \\\n",
       "0        1  [821867, 834484, 856942, 865456, 889248, 90795...   \n",
       "1        3  [835476, 851057, 872021, 878302, 879948, 90963...   \n",
       "\n",
       "                  weighted_random_recommendation  \\\n",
       "0  [5569201, 2287297, 973880, 13115515, 6773187]   \n",
       "1  [1042564, 915545, 1074754, 1499569, 15483133]   \n",
       "\n",
       "                           random_recommendation  \\\n",
       "0   [1040199, 12605392, 856221, 2418699, 944454]   \n",
       "1  [970747, 1100856, 1339110, 9526269, 15717033]   \n",
       "\n",
       "               random_recommendation of TOP 5000  \\\n",
       "0  [5592610, 1000672, 12731436, 907892, 1139525]   \n",
       "1     [9524291, 870327, 879876, 977658, 1067419]   \n",
       "\n",
       "       weighted_random_recommendation of TOP 5K  \n",
       "0  [978354, 1058939, 5569379, 1013826, 1065017]  \n",
       "1   [1075470, 872417, 6463789, 5578547, 820486]  "
      ]
     },
     "execution_count": 26,
     "metadata": {},
     "output_type": "execute_result"
    }
   ],
   "source": [
    "%%time\n",
    "\n",
    "# your_code\n",
    "\n",
    "result['weighted_random_recommendation of TOP 5K'] = result['user_id'].apply(lambda x: weighted_random_recommendation(items_weghted_5000, n=5))\n",
    "\n",
    "result.head(2)"
   ]
  },
  {
   "cell_type": "markdown",
   "metadata": {},
   "source": [
    "### 1.2 Popularity-based recommendation"
   ]
  },
  {
   "cell_type": "code",
   "execution_count": 27,
   "metadata": {},
   "outputs": [],
   "source": [
    "def popularity_recommendation(data, n=5):\n",
    "    \"\"\"Топ-n популярных товаров\"\"\"\n",
    "    \n",
    "    popular = data.groupby('item_id')['sales_value'].sum().reset_index()\n",
    "    popular.sort_values('sales_value', ascending=False, inplace=True)\n",
    "    \n",
    "    recs = popular.head(n).item_id\n",
    "    \n",
    "    return recs.tolist()"
   ]
  },
  {
   "cell_type": "code",
   "execution_count": 28,
   "metadata": {
    "scrolled": true
   },
   "outputs": [
    {
     "name": "stdout",
     "output_type": "stream",
     "text": [
      "Wall time: 172 ms\n"
     ]
    },
    {
     "data": {
      "text/html": [
       "<div>\n",
       "<style scoped>\n",
       "    .dataframe tbody tr th:only-of-type {\n",
       "        vertical-align: middle;\n",
       "    }\n",
       "\n",
       "    .dataframe tbody tr th {\n",
       "        vertical-align: top;\n",
       "    }\n",
       "\n",
       "    .dataframe thead th {\n",
       "        text-align: right;\n",
       "    }\n",
       "</style>\n",
       "<table border=\"1\" class=\"dataframe\">\n",
       "  <thead>\n",
       "    <tr style=\"text-align: right;\">\n",
       "      <th></th>\n",
       "      <th>user_id</th>\n",
       "      <th>actual</th>\n",
       "      <th>weighted_random_recommendation</th>\n",
       "      <th>random_recommendation</th>\n",
       "      <th>random_recommendation of TOP 5000</th>\n",
       "      <th>weighted_random_recommendation of TOP 5K</th>\n",
       "      <th>popular_recommendation</th>\n",
       "    </tr>\n",
       "  </thead>\n",
       "  <tbody>\n",
       "    <tr>\n",
       "      <th>0</th>\n",
       "      <td>1</td>\n",
       "      <td>[821867, 834484, 856942, 865456, 889248, 90795...</td>\n",
       "      <td>[5569201, 2287297, 973880, 13115515, 6773187]</td>\n",
       "      <td>[1040199, 12605392, 856221, 2418699, 944454]</td>\n",
       "      <td>[5592610, 1000672, 12731436, 907892, 1139525]</td>\n",
       "      <td>[978354, 1058939, 5569379, 1013826, 1065017]</td>\n",
       "      <td>[6666, 6534178, 6533889, 1029743, 6534166]</td>\n",
       "    </tr>\n",
       "    <tr>\n",
       "      <th>1</th>\n",
       "      <td>3</td>\n",
       "      <td>[835476, 851057, 872021, 878302, 879948, 90963...</td>\n",
       "      <td>[1042564, 915545, 1074754, 1499569, 15483133]</td>\n",
       "      <td>[970747, 1100856, 1339110, 9526269, 15717033]</td>\n",
       "      <td>[9524291, 870327, 879876, 977658, 1067419]</td>\n",
       "      <td>[1075470, 872417, 6463789, 5578547, 820486]</td>\n",
       "      <td>[6666, 6534178, 6533889, 1029743, 6534166]</td>\n",
       "    </tr>\n",
       "  </tbody>\n",
       "</table>\n",
       "</div>"
      ],
      "text/plain": [
       "   user_id                                             actual  \\\n",
       "0        1  [821867, 834484, 856942, 865456, 889248, 90795...   \n",
       "1        3  [835476, 851057, 872021, 878302, 879948, 90963...   \n",
       "\n",
       "                  weighted_random_recommendation  \\\n",
       "0  [5569201, 2287297, 973880, 13115515, 6773187]   \n",
       "1  [1042564, 915545, 1074754, 1499569, 15483133]   \n",
       "\n",
       "                           random_recommendation  \\\n",
       "0   [1040199, 12605392, 856221, 2418699, 944454]   \n",
       "1  [970747, 1100856, 1339110, 9526269, 15717033]   \n",
       "\n",
       "               random_recommendation of TOP 5000  \\\n",
       "0  [5592610, 1000672, 12731436, 907892, 1139525]   \n",
       "1     [9524291, 870327, 879876, 977658, 1067419]   \n",
       "\n",
       "       weighted_random_recommendation of TOP 5K  \\\n",
       "0  [978354, 1058939, 5569379, 1013826, 1065017]   \n",
       "1   [1075470, 872417, 6463789, 5578547, 820486]   \n",
       "\n",
       "                       popular_recommendation  \n",
       "0  [6666, 6534178, 6533889, 1029743, 6534166]  \n",
       "1  [6666, 6534178, 6533889, 1029743, 6534166]  "
      ]
     },
     "execution_count": 28,
     "metadata": {},
     "output_type": "execute_result"
    }
   ],
   "source": [
    "%%time\n",
    "\n",
    "# Можно так делать, так как рекомендация не зависит от юзера\n",
    "popular_recs = popularity_recommendation(data_train, n=5)\n",
    "\n",
    "result['popular_recommendation'] = result['user_id'].apply(lambda x: popular_recs)\n",
    "result.head(2)"
   ]
  },
  {
   "cell_type": "markdown",
   "metadata": {
    "colab_type": "text",
    "id": "igDU0j1cC8ZH"
   },
   "source": [
    "## Задание 2. Улучшение бейзлайнов и ItemItem\n",
    "\n",
    "- Попробуйте улучшить разные варианты ItemItemRecommender, выбирая число соседей $K$."
   ]
  },
  {
   "cell_type": "markdown",
   "metadata": {},
   "source": [
    "Доп: отфильтровать мусорный товар во всех рекомендациях"
   ]
  },
  {
   "cell_type": "markdown",
   "metadata": {},
   "source": [
    "## 2.1 Item-Item Recommender / ItemKNN"
   ]
  },
  {
   "cell_type": "markdown",
   "metadata": {
    "colab_type": "text",
    "id": "igDU0j1cC8ZH"
   },
   "source": [
    "## Задание 2. Улучшение бейзлайнов и ItemItem\n",
    "\n",
    "- Попробуйте улучшить бейзлайны, считая случаный на топ-5000 товаров\n",
    "- Попробуйте улучшить разные варианты ItemItemRecommender, выбирая число соседей $K$."
   ]
  },
  {
   "cell_type": "markdown",
   "metadata": {},
   "source": [
    "Доп: отфильтровать мусорный товар во всех рекомендациях"
   ]
  },
  {
   "cell_type": "code",
   "execution_count": 29,
   "metadata": {},
   "outputs": [
    {
     "data": {
      "application/vnd.jupyter.widget-view+json": {
       "model_id": "4ef2e3ed6e984ec0b903427729ffb5f1",
       "version_major": 2,
       "version_minor": 0
      },
      "text/plain": [
       "  0%|          | 0/5001 [00:00<?, ?it/s]"
      ]
     },
     "metadata": {},
     "output_type": "display_data"
    },
    {
     "data": {
      "application/vnd.jupyter.widget-view+json": {
       "model_id": "1a324c6cee55421cb64cbbf960d07244",
       "version_major": 2,
       "version_minor": 0
      },
      "text/plain": [
       "  0%|          | 0/5001 [00:00<?, ?it/s]"
      ]
     },
     "metadata": {},
     "output_type": "display_data"
    },
    {
     "data": {
      "application/vnd.jupyter.widget-view+json": {
       "model_id": "dc89131d88704027a45363866f7dda9e",
       "version_major": 2,
       "version_minor": 0
      },
      "text/plain": [
       "  0%|          | 0/5001 [00:00<?, ?it/s]"
      ]
     },
     "metadata": {},
     "output_type": "display_data"
    },
    {
     "data": {
      "application/vnd.jupyter.widget-view+json": {
       "model_id": "fcd20683367545bea86fa44a52a27acf",
       "version_major": 2,
       "version_minor": 0
      },
      "text/plain": [
       "  0%|          | 0/5001 [00:00<?, ?it/s]"
      ]
     },
     "metadata": {},
     "output_type": "display_data"
    },
    {
     "data": {
      "application/vnd.jupyter.widget-view+json": {
       "model_id": "3b9f4ab676734559b0385c6fd86573bd",
       "version_major": 2,
       "version_minor": 0
      },
      "text/plain": [
       "  0%|          | 0/5001 [00:00<?, ?it/s]"
      ]
     },
     "metadata": {},
     "output_type": "display_data"
    },
    {
     "name": "stdout",
     "output_type": "stream",
     "text": [
      "Wall time: 8.56 s\n"
     ]
    }
   ],
   "source": [
    "%%time\n",
    "for K in range (1,10,2):\n",
    "    \n",
    "    model = ItemItemRecommender(K, num_threads=4) # K - кол-во билжайших соседей\n",
    "\n",
    "\n",
    "    model.fit(csr_matrix(user_item_matrix).T.tocsr(), \n",
    "              show_progress=True)\n",
    "    \n",
    "    result['ItemItem, no 6666, K=' + str(K)] = result['user_id'].\\\n",
    "    apply(lambda x: [id_to_itemid[rec[0]] for rec in \n",
    "                    model.recommend(userid=userid_to_id[x], \n",
    "                                    user_items=sparse_user_item,   # на вход user-item matrix\n",
    "                                    N=5, \n",
    "                                    filter_already_liked_items=False, \n",
    "                                    filter_items=[itemid_to_id[6666]], \n",
    "                                    recalculate_user=True)])"
   ]
  },
  {
   "cell_type": "code",
   "execution_count": 30,
   "metadata": {},
   "outputs": [
    {
     "data": {
      "application/vnd.jupyter.widget-view+json": {
       "model_id": "3e030212bea24cf9b56091f2229fe10b",
       "version_major": 2,
       "version_minor": 0
      },
      "text/plain": [
       "  0%|          | 0/5001 [00:00<?, ?it/s]"
      ]
     },
     "metadata": {},
     "output_type": "display_data"
    },
    {
     "name": "stdout",
     "output_type": "stream",
     "text": [
      "Wall time: 1.95 s\n"
     ]
    }
   ],
   "source": [
    "%%time\n",
    "\n",
    "model = ItemItemRecommender(K=5, num_threads=4) # K - кол-во билжайших соседей\n",
    "\n",
    "\n",
    "model.fit(csr_matrix(user_item_matrix).T.tocsr(),  # На вход item-user matrix\n",
    "          show_progress=True)\n",
    "\n",
    "\n",
    "recs = model.recommend(userid=userid_to_id[2],  # userid - id от 0 до N\n",
    "                        user_items=csr_matrix(user_item_matrix).tocsr(),   # на вход user-item matrix\n",
    "                        N=5, # кол-во рекомендаций \n",
    "                        filter_already_liked_items=False, \n",
    "                        filter_items=None, \n",
    "                        recalculate_user=True)"
   ]
  },
  {
   "cell_type": "code",
   "execution_count": 31,
   "metadata": {},
   "outputs": [
    {
     "data": {
      "text/plain": [
       "[(0, 78679.0),\n",
       " (3408, 72173.0),\n",
       " (2149, 57995.0),\n",
       " (3947, 17272.0),\n",
       " (3587, 14417.0)]"
      ]
     },
     "execution_count": 31,
     "metadata": {},
     "output_type": "execute_result"
    }
   ],
   "source": [
    "recs"
   ]
  },
  {
   "cell_type": "code",
   "execution_count": 32,
   "metadata": {},
   "outputs": [
    {
     "data": {
      "text/plain": [
       "[6666, 1082185, 981760, 1127831, 1098066]"
      ]
     },
     "execution_count": 32,
     "metadata": {},
     "output_type": "execute_result"
    }
   ],
   "source": [
    "[id_to_itemid[rec[0]] for rec in recs]"
   ]
  },
  {
   "cell_type": "code",
   "execution_count": 33,
   "metadata": {},
   "outputs": [
    {
     "name": "stdout",
     "output_type": "stream",
     "text": [
      "Wall time: 120 ms\n"
     ]
    }
   ],
   "source": [
    "%%time\n",
    "\n",
    "result['itemitem all, K=5'] = result['user_id'].apply(lambda user_id: [\n",
    "                                     id_to_itemid[rec[0]]  for rec in model.recommend(userid=userid_to_id[user_id], \n",
    "                                                user_items=sparse_user_item,   # на вход user-item matrix\n",
    "                                                N=5, \n",
    "                                                filter_already_liked_items=False, \n",
    "                                                filter_items=None, \n",
    "                                                recalculate_user=True)\n",
    "                                                             ])"
   ]
  },
  {
   "cell_type": "code",
   "execution_count": 34,
   "metadata": {},
   "outputs": [
    {
     "data": {
      "text/html": [
       "<div>\n",
       "<style scoped>\n",
       "    .dataframe tbody tr th:only-of-type {\n",
       "        vertical-align: middle;\n",
       "    }\n",
       "\n",
       "    .dataframe tbody tr th {\n",
       "        vertical-align: top;\n",
       "    }\n",
       "\n",
       "    .dataframe thead th {\n",
       "        text-align: right;\n",
       "    }\n",
       "</style>\n",
       "<table border=\"1\" class=\"dataframe\">\n",
       "  <thead>\n",
       "    <tr style=\"text-align: right;\">\n",
       "      <th></th>\n",
       "      <th>user_id</th>\n",
       "      <th>actual</th>\n",
       "      <th>weighted_random_recommendation</th>\n",
       "      <th>random_recommendation</th>\n",
       "      <th>random_recommendation of TOP 5000</th>\n",
       "      <th>weighted_random_recommendation of TOP 5K</th>\n",
       "      <th>popular_recommendation</th>\n",
       "      <th>ItemItem, no 6666, K=1</th>\n",
       "      <th>ItemItem, no 6666, K=3</th>\n",
       "      <th>ItemItem, no 6666, K=5</th>\n",
       "      <th>ItemItem, no 6666, K=7</th>\n",
       "      <th>ItemItem, no 6666, K=9</th>\n",
       "      <th>itemitem all, K=5</th>\n",
       "    </tr>\n",
       "  </thead>\n",
       "  <tbody>\n",
       "    <tr>\n",
       "      <th>0</th>\n",
       "      <td>1</td>\n",
       "      <td>[821867, 834484, 856942, 865456, 889248, 90795...</td>\n",
       "      <td>[5569201, 2287297, 973880, 13115515, 6773187]</td>\n",
       "      <td>[1040199, 12605392, 856221, 2418699, 944454]</td>\n",
       "      <td>[5592610, 1000672, 12731436, 907892, 1139525]</td>\n",
       "      <td>[978354, 1058939, 5569379, 1013826, 1065017]</td>\n",
       "      <td>[6666, 6534178, 6533889, 1029743, 6534166]</td>\n",
       "      <td>[1082185, 995242, 1029743, 840361, 904360]</td>\n",
       "      <td>[1082185, 981760, 995242, 1029743, 840361]</td>\n",
       "      <td>[1082185, 981760, 1127831, 995242, 1098066]</td>\n",
       "      <td>[1082185, 981760, 995242, 840361, 1127831]</td>\n",
       "      <td>[1082185, 981760, 995242, 840361, 1127831]</td>\n",
       "      <td>[6666, 1082185, 981760, 1127831, 995242]</td>\n",
       "    </tr>\n",
       "    <tr>\n",
       "      <th>1</th>\n",
       "      <td>3</td>\n",
       "      <td>[835476, 851057, 872021, 878302, 879948, 90963...</td>\n",
       "      <td>[1042564, 915545, 1074754, 1499569, 15483133]</td>\n",
       "      <td>[970747, 1100856, 1339110, 9526269, 15717033]</td>\n",
       "      <td>[9524291, 870327, 879876, 977658, 1067419]</td>\n",
       "      <td>[1075470, 872417, 6463789, 5578547, 820486]</td>\n",
       "      <td>[6666, 6534178, 6533889, 1029743, 6534166]</td>\n",
       "      <td>[1082185, 1098066, 6534178, 826249, 1127831]</td>\n",
       "      <td>[1082185, 981760, 1098066, 6534178, 826249]</td>\n",
       "      <td>[1082185, 981760, 1098066, 995242, 826249]</td>\n",
       "      <td>[1082185, 981760, 1098066, 826249, 995242]</td>\n",
       "      <td>[1082185, 981760, 1098066, 826249, 995242]</td>\n",
       "      <td>[6666, 1082185, 981760, 1098066, 995242]</td>\n",
       "    </tr>\n",
       "    <tr>\n",
       "      <th>2</th>\n",
       "      <td>6</td>\n",
       "      <td>[920308, 926804, 946489, 1006718, 1017061, 107...</td>\n",
       "      <td>[838662, 8067176, 854031, 1011771, 12672832]</td>\n",
       "      <td>[839853, 12605066, 5980738, 1185318, 1004510]</td>\n",
       "      <td>[835243, 1118046, 8014645, 1388206, 1062572]</td>\n",
       "      <td>[1043095, 901666, 1116635, 5591520, 5568228]</td>\n",
       "      <td>[6666, 6534178, 6533889, 1029743, 6534166]</td>\n",
       "      <td>[1082185, 981760, 995242, 1029743, 840361]</td>\n",
       "      <td>[1082185, 981760, 995242, 1029743, 840361]</td>\n",
       "      <td>[1082185, 981760, 1127831, 995242, 1098066]</td>\n",
       "      <td>[1082185, 981760, 995242, 1098066, 1127831]</td>\n",
       "      <td>[1082185, 981760, 995242, 840361, 1098066]</td>\n",
       "      <td>[6666, 1082185, 981760, 1127831, 995242]</td>\n",
       "    </tr>\n",
       "    <tr>\n",
       "      <th>3</th>\n",
       "      <td>7</td>\n",
       "      <td>[840386, 889774, 898068, 909714, 929067, 95347...</td>\n",
       "      <td>[1034478, 991886, 992668, 934172, 6704149]</td>\n",
       "      <td>[1149843, 2640727, 837694, 1810202, 41919]</td>\n",
       "      <td>[5571248, 9835408, 9575181, 878302, 1117336]</td>\n",
       "      <td>[12670635, 845537, 926903, 917839, 1112238]</td>\n",
       "      <td>[6666, 6534178, 6533889, 1029743, 6534166]</td>\n",
       "      <td>[1082185, 995242, 1029743, 826249, 1127831]</td>\n",
       "      <td>[1082185, 981760, 995242, 1029743, 826249]</td>\n",
       "      <td>[1082185, 981760, 1127831, 995242, 1098066]</td>\n",
       "      <td>[1082185, 981760, 1098066, 995242, 1127831]</td>\n",
       "      <td>[1082185, 981760, 995242, 1098066, 826249]</td>\n",
       "      <td>[6666, 1082185, 981760, 1127831, 995242]</td>\n",
       "    </tr>\n",
       "    <tr>\n",
       "      <th>4</th>\n",
       "      <td>8</td>\n",
       "      <td>[835098, 872137, 910439, 924610, 992977, 10412...</td>\n",
       "      <td>[963117, 888764, 985055, 12325406, 932410]</td>\n",
       "      <td>[841016, 67136, 855441, 1204179, 13037614]</td>\n",
       "      <td>[8015407, 8119303, 5995312, 9526624, 7025490]</td>\n",
       "      <td>[997988, 972416, 1004585, 957772, 1020581]</td>\n",
       "      <td>[6666, 6534178, 6533889, 1029743, 6534166]</td>\n",
       "      <td>[1082185, 981760, 995242, 1029743, 840361]</td>\n",
       "      <td>[1082185, 981760, 6534178, 995242, 1029743]</td>\n",
       "      <td>[1082185, 981760, 1127831, 1098066, 995242]</td>\n",
       "      <td>[1082185, 981760, 1098066, 995242, 826249]</td>\n",
       "      <td>[1082185, 981760, 1098066, 995242, 826249]</td>\n",
       "      <td>[6666, 1082185, 981760, 1127831, 1098066]</td>\n",
       "    </tr>\n",
       "  </tbody>\n",
       "</table>\n",
       "</div>"
      ],
      "text/plain": [
       "   user_id                                             actual  \\\n",
       "0        1  [821867, 834484, 856942, 865456, 889248, 90795...   \n",
       "1        3  [835476, 851057, 872021, 878302, 879948, 90963...   \n",
       "2        6  [920308, 926804, 946489, 1006718, 1017061, 107...   \n",
       "3        7  [840386, 889774, 898068, 909714, 929067, 95347...   \n",
       "4        8  [835098, 872137, 910439, 924610, 992977, 10412...   \n",
       "\n",
       "                  weighted_random_recommendation  \\\n",
       "0  [5569201, 2287297, 973880, 13115515, 6773187]   \n",
       "1  [1042564, 915545, 1074754, 1499569, 15483133]   \n",
       "2   [838662, 8067176, 854031, 1011771, 12672832]   \n",
       "3     [1034478, 991886, 992668, 934172, 6704149]   \n",
       "4     [963117, 888764, 985055, 12325406, 932410]   \n",
       "\n",
       "                           random_recommendation  \\\n",
       "0   [1040199, 12605392, 856221, 2418699, 944454]   \n",
       "1  [970747, 1100856, 1339110, 9526269, 15717033]   \n",
       "2  [839853, 12605066, 5980738, 1185318, 1004510]   \n",
       "3     [1149843, 2640727, 837694, 1810202, 41919]   \n",
       "4     [841016, 67136, 855441, 1204179, 13037614]   \n",
       "\n",
       "               random_recommendation of TOP 5000  \\\n",
       "0  [5592610, 1000672, 12731436, 907892, 1139525]   \n",
       "1     [9524291, 870327, 879876, 977658, 1067419]   \n",
       "2   [835243, 1118046, 8014645, 1388206, 1062572]   \n",
       "3   [5571248, 9835408, 9575181, 878302, 1117336]   \n",
       "4  [8015407, 8119303, 5995312, 9526624, 7025490]   \n",
       "\n",
       "       weighted_random_recommendation of TOP 5K  \\\n",
       "0  [978354, 1058939, 5569379, 1013826, 1065017]   \n",
       "1   [1075470, 872417, 6463789, 5578547, 820486]   \n",
       "2  [1043095, 901666, 1116635, 5591520, 5568228]   \n",
       "3   [12670635, 845537, 926903, 917839, 1112238]   \n",
       "4    [997988, 972416, 1004585, 957772, 1020581]   \n",
       "\n",
       "                       popular_recommendation  \\\n",
       "0  [6666, 6534178, 6533889, 1029743, 6534166]   \n",
       "1  [6666, 6534178, 6533889, 1029743, 6534166]   \n",
       "2  [6666, 6534178, 6533889, 1029743, 6534166]   \n",
       "3  [6666, 6534178, 6533889, 1029743, 6534166]   \n",
       "4  [6666, 6534178, 6533889, 1029743, 6534166]   \n",
       "\n",
       "                         ItemItem, no 6666, K=1  \\\n",
       "0    [1082185, 995242, 1029743, 840361, 904360]   \n",
       "1  [1082185, 1098066, 6534178, 826249, 1127831]   \n",
       "2    [1082185, 981760, 995242, 1029743, 840361]   \n",
       "3   [1082185, 995242, 1029743, 826249, 1127831]   \n",
       "4    [1082185, 981760, 995242, 1029743, 840361]   \n",
       "\n",
       "                        ItemItem, no 6666, K=3  \\\n",
       "0   [1082185, 981760, 995242, 1029743, 840361]   \n",
       "1  [1082185, 981760, 1098066, 6534178, 826249]   \n",
       "2   [1082185, 981760, 995242, 1029743, 840361]   \n",
       "3   [1082185, 981760, 995242, 1029743, 826249]   \n",
       "4  [1082185, 981760, 6534178, 995242, 1029743]   \n",
       "\n",
       "                        ItemItem, no 6666, K=5  \\\n",
       "0  [1082185, 981760, 1127831, 995242, 1098066]   \n",
       "1   [1082185, 981760, 1098066, 995242, 826249]   \n",
       "2  [1082185, 981760, 1127831, 995242, 1098066]   \n",
       "3  [1082185, 981760, 1127831, 995242, 1098066]   \n",
       "4  [1082185, 981760, 1127831, 1098066, 995242]   \n",
       "\n",
       "                        ItemItem, no 6666, K=7  \\\n",
       "0   [1082185, 981760, 995242, 840361, 1127831]   \n",
       "1   [1082185, 981760, 1098066, 826249, 995242]   \n",
       "2  [1082185, 981760, 995242, 1098066, 1127831]   \n",
       "3  [1082185, 981760, 1098066, 995242, 1127831]   \n",
       "4   [1082185, 981760, 1098066, 995242, 826249]   \n",
       "\n",
       "                       ItemItem, no 6666, K=9  \\\n",
       "0  [1082185, 981760, 995242, 840361, 1127831]   \n",
       "1  [1082185, 981760, 1098066, 826249, 995242]   \n",
       "2  [1082185, 981760, 995242, 840361, 1098066]   \n",
       "3  [1082185, 981760, 995242, 1098066, 826249]   \n",
       "4  [1082185, 981760, 1098066, 995242, 826249]   \n",
       "\n",
       "                           itemitem all, K=5  \n",
       "0   [6666, 1082185, 981760, 1127831, 995242]  \n",
       "1   [6666, 1082185, 981760, 1098066, 995242]  \n",
       "2   [6666, 1082185, 981760, 1127831, 995242]  \n",
       "3   [6666, 1082185, 981760, 1127831, 995242]  \n",
       "4  [6666, 1082185, 981760, 1127831, 1098066]  "
      ]
     },
     "execution_count": 34,
     "metadata": {},
     "output_type": "execute_result"
    }
   ],
   "source": [
    "result.head(5)"
   ]
  },
  {
   "cell_type": "markdown",
   "metadata": {},
   "source": [
    "### 4.2 Косинусное сходство и CosineRecommender"
   ]
  },
  {
   "cell_type": "code",
   "execution_count": 35,
   "metadata": {},
   "outputs": [
    {
     "data": {
      "application/vnd.jupyter.widget-view+json": {
       "model_id": "efc0d5ab7b1e439eb6d2ed3c65f5dd31",
       "version_major": 2,
       "version_minor": 0
      },
      "text/plain": [
       "  0%|          | 0/5001 [00:00<?, ?it/s]"
      ]
     },
     "metadata": {},
     "output_type": "display_data"
    },
    {
     "name": "stdout",
     "output_type": "stream",
     "text": [
      "Wall time: 1.85 s\n"
     ]
    }
   ],
   "source": [
    "%%time\n",
    "\n",
    "model = CosineRecommender(K=5, num_threads=4) # K - кол-во билжайших соседей\n",
    "\n",
    "model.fit(csr_matrix(user_item_matrix).T.tocsr(), \n",
    "          show_progress=True)\n",
    "\n",
    "recs = model.recommend(userid=userid_to_id[1], \n",
    "                        user_items=csr_matrix(user_item_matrix).tocsr(),   # на вход user-item matrix\n",
    "                        N=5, \n",
    "                        filter_already_liked_items=False, \n",
    "                        filter_items=None, \n",
    "                        recalculate_user=False)"
   ]
  },
  {
   "cell_type": "code",
   "execution_count": 36,
   "metadata": {},
   "outputs": [
    {
     "data": {
      "text/plain": [
       "[1082185, 6666, 981760, 1127831, 1098066]"
      ]
     },
     "execution_count": 36,
     "metadata": {},
     "output_type": "execute_result"
    }
   ],
   "source": [
    "[id_to_itemid[rec[0]] for rec in recs]"
   ]
  },
  {
   "cell_type": "code",
   "execution_count": 37,
   "metadata": {},
   "outputs": [
    {
     "name": "stdout",
     "output_type": "stream",
     "text": [
      "Wall time: 124 ms\n"
     ]
    }
   ],
   "source": [
    "%%time\n",
    "\n",
    "result['cosine'] = result['user_id'].\\\n",
    "    apply(lambda x: [id_to_itemid[rec[0]] for rec in \n",
    "                    model.recommend(userid=userid_to_id[x], \n",
    "                                    user_items=sparse_user_item,   # на вход user-item matrix\n",
    "                                    N=5, \n",
    "                                    filter_already_liked_items=False, \n",
    "                                    filter_items=None, \n",
    "                                    recalculate_user=True)])"
   ]
  },
  {
   "cell_type": "markdown",
   "metadata": {},
   "source": [
    "Cosine rec без 6666"
   ]
  },
  {
   "cell_type": "code",
   "execution_count": 38,
   "metadata": {},
   "outputs": [
    {
     "data": {
      "application/vnd.jupyter.widget-view+json": {
       "model_id": "647a70b6cb2943719acaf4c792d05735",
       "version_major": 2,
       "version_minor": 0
      },
      "text/plain": [
       "  0%|          | 0/5001 [00:00<?, ?it/s]"
      ]
     },
     "metadata": {},
     "output_type": "display_data"
    },
    {
     "name": "stdout",
     "output_type": "stream",
     "text": [
      "Wall time: 1.93 s\n"
     ]
    }
   ],
   "source": [
    "%%time\n",
    "\n",
    "model = CosineRecommender(K=5, num_threads=4) # K - кол-во билжайших соседей\n",
    "\n",
    "model.fit(csr_matrix(user_item_matrix).T.tocsr(), \n",
    "          show_progress=True)\n",
    "\n",
    "recs = model.recommend(userid=userid_to_id[1], \n",
    "                        user_items=csr_matrix(user_item_matrix).tocsr(),   # на вход user-item matrix\n",
    "                        N=5, \n",
    "                        filter_already_liked_items=False, \n",
    "                        filter_items=[itemid_to_id[6666]], \n",
    "                        recalculate_user=False)"
   ]
  },
  {
   "cell_type": "code",
   "execution_count": 39,
   "metadata": {},
   "outputs": [
    {
     "name": "stdout",
     "output_type": "stream",
     "text": [
      "Wall time: 142 ms\n"
     ]
    }
   ],
   "source": [
    "%%time\n",
    "\n",
    "result['cosine no 6666'] = result['user_id'].\\\n",
    "    apply(lambda x: [id_to_itemid[rec[0]] for rec in \n",
    "                    model.recommend(userid=userid_to_id[x], \n",
    "                                    user_items=sparse_user_item,   # на вход user-item matrix\n",
    "                                    N=5, \n",
    "                                    filter_already_liked_items=False, \n",
    "                                    filter_items=[itemid_to_id[6666]], \n",
    "                                    recalculate_user=True)])"
   ]
  },
  {
   "cell_type": "code",
   "execution_count": 40,
   "metadata": {},
   "outputs": [
    {
     "data": {
      "text/html": [
       "<div>\n",
       "<style scoped>\n",
       "    .dataframe tbody tr th:only-of-type {\n",
       "        vertical-align: middle;\n",
       "    }\n",
       "\n",
       "    .dataframe tbody tr th {\n",
       "        vertical-align: top;\n",
       "    }\n",
       "\n",
       "    .dataframe thead th {\n",
       "        text-align: right;\n",
       "    }\n",
       "</style>\n",
       "<table border=\"1\" class=\"dataframe\">\n",
       "  <thead>\n",
       "    <tr style=\"text-align: right;\">\n",
       "      <th></th>\n",
       "      <th>user_id</th>\n",
       "      <th>actual</th>\n",
       "      <th>weighted_random_recommendation</th>\n",
       "      <th>random_recommendation</th>\n",
       "      <th>random_recommendation of TOP 5000</th>\n",
       "      <th>weighted_random_recommendation of TOP 5K</th>\n",
       "      <th>popular_recommendation</th>\n",
       "      <th>ItemItem, no 6666, K=1</th>\n",
       "      <th>ItemItem, no 6666, K=3</th>\n",
       "      <th>ItemItem, no 6666, K=5</th>\n",
       "      <th>ItemItem, no 6666, K=7</th>\n",
       "      <th>ItemItem, no 6666, K=9</th>\n",
       "      <th>itemitem all, K=5</th>\n",
       "      <th>cosine</th>\n",
       "      <th>cosine no 6666</th>\n",
       "    </tr>\n",
       "  </thead>\n",
       "  <tbody>\n",
       "    <tr>\n",
       "      <th>0</th>\n",
       "      <td>1</td>\n",
       "      <td>[821867, 834484, 856942, 865456, 889248, 90795...</td>\n",
       "      <td>[5569201, 2287297, 973880, 13115515, 6773187]</td>\n",
       "      <td>[1040199, 12605392, 856221, 2418699, 944454]</td>\n",
       "      <td>[5592610, 1000672, 12731436, 907892, 1139525]</td>\n",
       "      <td>[978354, 1058939, 5569379, 1013826, 1065017]</td>\n",
       "      <td>[6666, 6534178, 6533889, 1029743, 6534166]</td>\n",
       "      <td>[1082185, 995242, 1029743, 840361, 904360]</td>\n",
       "      <td>[1082185, 981760, 995242, 1029743, 840361]</td>\n",
       "      <td>[1082185, 981760, 1127831, 995242, 1098066]</td>\n",
       "      <td>[1082185, 981760, 995242, 840361, 1127831]</td>\n",
       "      <td>[1082185, 981760, 995242, 840361, 1127831]</td>\n",
       "      <td>[6666, 1082185, 981760, 1127831, 995242]</td>\n",
       "      <td>[1082185, 6666, 981760, 1127831, 1098066]</td>\n",
       "      <td>[1082185, 981760, 1127831, 1098066, 961554]</td>\n",
       "    </tr>\n",
       "    <tr>\n",
       "      <th>1</th>\n",
       "      <td>3</td>\n",
       "      <td>[835476, 851057, 872021, 878302, 879948, 90963...</td>\n",
       "      <td>[1042564, 915545, 1074754, 1499569, 15483133]</td>\n",
       "      <td>[970747, 1100856, 1339110, 9526269, 15717033]</td>\n",
       "      <td>[9524291, 870327, 879876, 977658, 1067419]</td>\n",
       "      <td>[1075470, 872417, 6463789, 5578547, 820486]</td>\n",
       "      <td>[6666, 6534178, 6533889, 1029743, 6534166]</td>\n",
       "      <td>[1082185, 1098066, 6534178, 826249, 1127831]</td>\n",
       "      <td>[1082185, 981760, 1098066, 6534178, 826249]</td>\n",
       "      <td>[1082185, 981760, 1098066, 995242, 826249]</td>\n",
       "      <td>[1082185, 981760, 1098066, 826249, 995242]</td>\n",
       "      <td>[1082185, 981760, 1098066, 826249, 995242]</td>\n",
       "      <td>[6666, 1082185, 981760, 1098066, 995242]</td>\n",
       "      <td>[1082185, 1098066, 981760, 6666, 826249]</td>\n",
       "      <td>[1082185, 1098066, 981760, 826249, 883404]</td>\n",
       "    </tr>\n",
       "  </tbody>\n",
       "</table>\n",
       "</div>"
      ],
      "text/plain": [
       "   user_id                                             actual  \\\n",
       "0        1  [821867, 834484, 856942, 865456, 889248, 90795...   \n",
       "1        3  [835476, 851057, 872021, 878302, 879948, 90963...   \n",
       "\n",
       "                  weighted_random_recommendation  \\\n",
       "0  [5569201, 2287297, 973880, 13115515, 6773187]   \n",
       "1  [1042564, 915545, 1074754, 1499569, 15483133]   \n",
       "\n",
       "                           random_recommendation  \\\n",
       "0   [1040199, 12605392, 856221, 2418699, 944454]   \n",
       "1  [970747, 1100856, 1339110, 9526269, 15717033]   \n",
       "\n",
       "               random_recommendation of TOP 5000  \\\n",
       "0  [5592610, 1000672, 12731436, 907892, 1139525]   \n",
       "1     [9524291, 870327, 879876, 977658, 1067419]   \n",
       "\n",
       "       weighted_random_recommendation of TOP 5K  \\\n",
       "0  [978354, 1058939, 5569379, 1013826, 1065017]   \n",
       "1   [1075470, 872417, 6463789, 5578547, 820486]   \n",
       "\n",
       "                       popular_recommendation  \\\n",
       "0  [6666, 6534178, 6533889, 1029743, 6534166]   \n",
       "1  [6666, 6534178, 6533889, 1029743, 6534166]   \n",
       "\n",
       "                         ItemItem, no 6666, K=1  \\\n",
       "0    [1082185, 995242, 1029743, 840361, 904360]   \n",
       "1  [1082185, 1098066, 6534178, 826249, 1127831]   \n",
       "\n",
       "                        ItemItem, no 6666, K=3  \\\n",
       "0   [1082185, 981760, 995242, 1029743, 840361]   \n",
       "1  [1082185, 981760, 1098066, 6534178, 826249]   \n",
       "\n",
       "                        ItemItem, no 6666, K=5  \\\n",
       "0  [1082185, 981760, 1127831, 995242, 1098066]   \n",
       "1   [1082185, 981760, 1098066, 995242, 826249]   \n",
       "\n",
       "                       ItemItem, no 6666, K=7  \\\n",
       "0  [1082185, 981760, 995242, 840361, 1127831]   \n",
       "1  [1082185, 981760, 1098066, 826249, 995242]   \n",
       "\n",
       "                       ItemItem, no 6666, K=9  \\\n",
       "0  [1082185, 981760, 995242, 840361, 1127831]   \n",
       "1  [1082185, 981760, 1098066, 826249, 995242]   \n",
       "\n",
       "                          itemitem all, K=5  \\\n",
       "0  [6666, 1082185, 981760, 1127831, 995242]   \n",
       "1  [6666, 1082185, 981760, 1098066, 995242]   \n",
       "\n",
       "                                      cosine  \\\n",
       "0  [1082185, 6666, 981760, 1127831, 1098066]   \n",
       "1   [1082185, 1098066, 981760, 6666, 826249]   \n",
       "\n",
       "                                cosine no 6666  \n",
       "0  [1082185, 981760, 1127831, 1098066, 961554]  \n",
       "1   [1082185, 1098066, 981760, 826249, 883404]  "
      ]
     },
     "execution_count": 40,
     "metadata": {},
     "output_type": "execute_result"
    }
   ],
   "source": [
    "result.head(2)"
   ]
  },
  {
   "cell_type": "markdown",
   "metadata": {},
   "source": [
    "### 4.3 TF-IDF взвешивание и TFIDFRecommender"
   ]
  },
  {
   "cell_type": "code",
   "execution_count": 41,
   "metadata": {},
   "outputs": [
    {
     "data": {
      "application/vnd.jupyter.widget-view+json": {
       "model_id": "ad2505f9a750419196d0702f3a4b0a53",
       "version_major": 2,
       "version_minor": 0
      },
      "text/plain": [
       "  0%|          | 0/5001 [00:00<?, ?it/s]"
      ]
     },
     "metadata": {},
     "output_type": "display_data"
    },
    {
     "name": "stdout",
     "output_type": "stream",
     "text": [
      "Wall time: 2.03 s\n"
     ]
    }
   ],
   "source": [
    "%%time\n",
    "\n",
    "model = TFIDFRecommender(K=5, num_threads=4) # K - кол-во билжайших соседей\n",
    "\n",
    "model.fit(csr_matrix(user_item_matrix).T.tocsr(), \n",
    "          show_progress=True)\n",
    "\n",
    "recs = model.recommend(userid=userid_to_id[1], \n",
    "                        user_items=csr_matrix(user_item_matrix).tocsr(),   # на вход user-item matrix\n",
    "                        N=5, \n",
    "                        filter_already_liked_items=False, \n",
    "                        filter_items=None, \n",
    "                        recalculate_user=False)"
   ]
  },
  {
   "cell_type": "code",
   "execution_count": 42,
   "metadata": {},
   "outputs": [
    {
     "data": {
      "text/plain": [
       "[1082185, 981760, 1127831, 6666, 1098066]"
      ]
     },
     "execution_count": 42,
     "metadata": {},
     "output_type": "execute_result"
    }
   ],
   "source": [
    "[id_to_itemid[rec[0]] for rec in recs]"
   ]
  },
  {
   "cell_type": "code",
   "execution_count": 43,
   "metadata": {},
   "outputs": [
    {
     "name": "stdout",
     "output_type": "stream",
     "text": [
      "Wall time: 153 ms\n"
     ]
    }
   ],
   "source": [
    "%%time\n",
    "\n",
    "result['tfidf'] = result['user_id'].\\\n",
    "    apply(lambda x: [id_to_itemid[rec[0]] for rec in \n",
    "                    model.recommend(userid=userid_to_id[x], \n",
    "                                    user_items=sparse_user_item,   # на вход user-item matrix\n",
    "                                    N=5, \n",
    "                                    filter_already_liked_items=False, \n",
    "                                    filter_items=None, \n",
    "                                    recalculate_user=False)])"
   ]
  },
  {
   "cell_type": "markdown",
   "metadata": {},
   "source": [
    "TF-IDF без 6666"
   ]
  },
  {
   "cell_type": "code",
   "execution_count": 44,
   "metadata": {},
   "outputs": [
    {
     "data": {
      "application/vnd.jupyter.widget-view+json": {
       "model_id": "39dc451312eb4023a3a5a40046e859ec",
       "version_major": 2,
       "version_minor": 0
      },
      "text/plain": [
       "  0%|          | 0/5001 [00:00<?, ?it/s]"
      ]
     },
     "metadata": {},
     "output_type": "display_data"
    },
    {
     "name": "stdout",
     "output_type": "stream",
     "text": [
      "Wall time: 1.87 s\n"
     ]
    }
   ],
   "source": [
    "%%time\n",
    "\n",
    "model = TFIDFRecommender(K=5, num_threads=4) # K - кол-во билжайших соседей\n",
    "\n",
    "model.fit(csr_matrix(user_item_matrix).T.tocsr(), \n",
    "          show_progress=True)\n",
    "\n",
    "recs = model.recommend(userid=userid_to_id[1], \n",
    "                        user_items=csr_matrix(user_item_matrix).tocsr(),   # на вход user-item matrix\n",
    "                        N=5, \n",
    "                        filter_already_liked_items=False, \n",
    "                        filter_items=[itemid_to_id[6666]], \n",
    "                        recalculate_user=False)"
   ]
  },
  {
   "cell_type": "code",
   "execution_count": 45,
   "metadata": {},
   "outputs": [
    {
     "name": "stdout",
     "output_type": "stream",
     "text": [
      "Wall time: 144 ms\n"
     ]
    }
   ],
   "source": [
    "%%time\n",
    "\n",
    "result['tfidf no 6666'] = result['user_id'].\\\n",
    "    apply(lambda x: [id_to_itemid[rec[0]] for rec in \n",
    "                    model.recommend(userid=userid_to_id[x], \n",
    "                                    user_items=sparse_user_item,   # на вход user-item matrix\n",
    "                                    N=5, \n",
    "                                    filter_already_liked_items=False, \n",
    "                                    filter_items=[itemid_to_id[6666]], \n",
    "                                    recalculate_user=False)])"
   ]
  },
  {
   "cell_type": "markdown",
   "metadata": {},
   "source": [
    "### 4.5 Измерим качество по precision@5"
   ]
  },
  {
   "cell_type": "code",
   "execution_count": 47,
   "metadata": {},
   "outputs": [
    {
     "data": {
      "text/html": [
       "<div>\n",
       "<style scoped>\n",
       "    .dataframe tbody tr th:only-of-type {\n",
       "        vertical-align: middle;\n",
       "    }\n",
       "\n",
       "    .dataframe tbody tr th {\n",
       "        vertical-align: top;\n",
       "    }\n",
       "\n",
       "    .dataframe thead th {\n",
       "        text-align: right;\n",
       "    }\n",
       "</style>\n",
       "<table border=\"1\" class=\"dataframe\">\n",
       "  <thead>\n",
       "    <tr style=\"text-align: right;\">\n",
       "      <th></th>\n",
       "      <th>user_id</th>\n",
       "      <th>actual</th>\n",
       "      <th>weighted_random_recommendation</th>\n",
       "      <th>random_recommendation</th>\n",
       "      <th>random_recommendation of TOP 5000</th>\n",
       "      <th>weighted_random_recommendation of TOP 5K</th>\n",
       "      <th>popular_recommendation</th>\n",
       "      <th>ItemItem, no 6666, K=1</th>\n",
       "      <th>ItemItem, no 6666, K=3</th>\n",
       "      <th>ItemItem, no 6666, K=5</th>\n",
       "      <th>ItemItem, no 6666, K=7</th>\n",
       "      <th>ItemItem, no 6666, K=9</th>\n",
       "      <th>itemitem all, K=5</th>\n",
       "      <th>cosine</th>\n",
       "      <th>cosine no 6666</th>\n",
       "      <th>tfidf</th>\n",
       "      <th>tfidf no 6666</th>\n",
       "    </tr>\n",
       "  </thead>\n",
       "  <tbody>\n",
       "    <tr>\n",
       "      <th>0</th>\n",
       "      <td>1</td>\n",
       "      <td>[821867, 834484, 856942, 865456, 889248, 90795...</td>\n",
       "      <td>[5569201, 2287297, 973880, 13115515, 6773187]</td>\n",
       "      <td>[1040199, 12605392, 856221, 2418699, 944454]</td>\n",
       "      <td>[5592610, 1000672, 12731436, 907892, 1139525]</td>\n",
       "      <td>[978354, 1058939, 5569379, 1013826, 1065017]</td>\n",
       "      <td>[6666, 6534178, 6533889, 1029743, 6534166]</td>\n",
       "      <td>[1082185, 995242, 1029743, 840361, 904360]</td>\n",
       "      <td>[1082185, 981760, 995242, 1029743, 840361]</td>\n",
       "      <td>[1082185, 981760, 1127831, 995242, 1098066]</td>\n",
       "      <td>[1082185, 981760, 995242, 840361, 1127831]</td>\n",
       "      <td>[1082185, 981760, 995242, 840361, 1127831]</td>\n",
       "      <td>[6666, 1082185, 981760, 1127831, 995242]</td>\n",
       "      <td>[1082185, 6666, 981760, 1127831, 1098066]</td>\n",
       "      <td>[1082185, 981760, 1127831, 1098066, 961554]</td>\n",
       "      <td>[1082185, 981760, 1127831, 6666, 1098066]</td>\n",
       "      <td>[1082185, 981760, 1127831, 1098066, 961554]</td>\n",
       "    </tr>\n",
       "    <tr>\n",
       "      <th>1</th>\n",
       "      <td>3</td>\n",
       "      <td>[835476, 851057, 872021, 878302, 879948, 90963...</td>\n",
       "      <td>[1042564, 915545, 1074754, 1499569, 15483133]</td>\n",
       "      <td>[970747, 1100856, 1339110, 9526269, 15717033]</td>\n",
       "      <td>[9524291, 870327, 879876, 977658, 1067419]</td>\n",
       "      <td>[1075470, 872417, 6463789, 5578547, 820486]</td>\n",
       "      <td>[6666, 6534178, 6533889, 1029743, 6534166]</td>\n",
       "      <td>[1082185, 1098066, 6534178, 826249, 1127831]</td>\n",
       "      <td>[1082185, 981760, 1098066, 6534178, 826249]</td>\n",
       "      <td>[1082185, 981760, 1098066, 995242, 826249]</td>\n",
       "      <td>[1082185, 981760, 1098066, 826249, 995242]</td>\n",
       "      <td>[1082185, 981760, 1098066, 826249, 995242]</td>\n",
       "      <td>[6666, 1082185, 981760, 1098066, 995242]</td>\n",
       "      <td>[1082185, 1098066, 981760, 6666, 826249]</td>\n",
       "      <td>[1082185, 1098066, 981760, 826249, 883404]</td>\n",
       "      <td>[1082185, 981760, 1098066, 826249, 6666]</td>\n",
       "      <td>[1082185, 981760, 1098066, 826249, 883404]</td>\n",
       "    </tr>\n",
       "    <tr>\n",
       "      <th>2</th>\n",
       "      <td>6</td>\n",
       "      <td>[920308, 926804, 946489, 1006718, 1017061, 107...</td>\n",
       "      <td>[838662, 8067176, 854031, 1011771, 12672832]</td>\n",
       "      <td>[839853, 12605066, 5980738, 1185318, 1004510]</td>\n",
       "      <td>[835243, 1118046, 8014645, 1388206, 1062572]</td>\n",
       "      <td>[1043095, 901666, 1116635, 5591520, 5568228]</td>\n",
       "      <td>[6666, 6534178, 6533889, 1029743, 6534166]</td>\n",
       "      <td>[1082185, 981760, 995242, 1029743, 840361]</td>\n",
       "      <td>[1082185, 981760, 995242, 1029743, 840361]</td>\n",
       "      <td>[1082185, 981760, 1127831, 995242, 1098066]</td>\n",
       "      <td>[1082185, 981760, 995242, 1098066, 1127831]</td>\n",
       "      <td>[1082185, 981760, 995242, 840361, 1098066]</td>\n",
       "      <td>[6666, 1082185, 981760, 1127831, 995242]</td>\n",
       "      <td>[1082185, 6666, 981760, 1127831, 1098066]</td>\n",
       "      <td>[1082185, 981760, 1127831, 1098066, 961554]</td>\n",
       "      <td>[1082185, 981760, 1127831, 6666, 878996]</td>\n",
       "      <td>[1082185, 981760, 1127831, 878996, 961554]</td>\n",
       "    </tr>\n",
       "    <tr>\n",
       "      <th>3</th>\n",
       "      <td>7</td>\n",
       "      <td>[840386, 889774, 898068, 909714, 929067, 95347...</td>\n",
       "      <td>[1034478, 991886, 992668, 934172, 6704149]</td>\n",
       "      <td>[1149843, 2640727, 837694, 1810202, 41919]</td>\n",
       "      <td>[5571248, 9835408, 9575181, 878302, 1117336]</td>\n",
       "      <td>[12670635, 845537, 926903, 917839, 1112238]</td>\n",
       "      <td>[6666, 6534178, 6533889, 1029743, 6534166]</td>\n",
       "      <td>[1082185, 995242, 1029743, 826249, 1127831]</td>\n",
       "      <td>[1082185, 981760, 995242, 1029743, 826249]</td>\n",
       "      <td>[1082185, 981760, 1127831, 995242, 1098066]</td>\n",
       "      <td>[1082185, 981760, 1098066, 995242, 1127831]</td>\n",
       "      <td>[1082185, 981760, 995242, 1098066, 826249]</td>\n",
       "      <td>[6666, 1082185, 981760, 1127831, 995242]</td>\n",
       "      <td>[1082185, 981760, 6666, 1127831, 961554]</td>\n",
       "      <td>[1082185, 981760, 1127831, 961554, 1098066]</td>\n",
       "      <td>[1082185, 981760, 1127831, 6666, 961554]</td>\n",
       "      <td>[1082185, 981760, 1127831, 961554, 826249]</td>\n",
       "    </tr>\n",
       "    <tr>\n",
       "      <th>4</th>\n",
       "      <td>8</td>\n",
       "      <td>[835098, 872137, 910439, 924610, 992977, 10412...</td>\n",
       "      <td>[963117, 888764, 985055, 12325406, 932410]</td>\n",
       "      <td>[841016, 67136, 855441, 1204179, 13037614]</td>\n",
       "      <td>[8015407, 8119303, 5995312, 9526624, 7025490]</td>\n",
       "      <td>[997988, 972416, 1004585, 957772, 1020581]</td>\n",
       "      <td>[6666, 6534178, 6533889, 1029743, 6534166]</td>\n",
       "      <td>[1082185, 981760, 995242, 1029743, 840361]</td>\n",
       "      <td>[1082185, 981760, 6534178, 995242, 1029743]</td>\n",
       "      <td>[1082185, 981760, 1127831, 1098066, 995242]</td>\n",
       "      <td>[1082185, 981760, 1098066, 995242, 826249]</td>\n",
       "      <td>[1082185, 981760, 1098066, 995242, 826249]</td>\n",
       "      <td>[6666, 1082185, 981760, 1127831, 1098066]</td>\n",
       "      <td>[1082185, 981760, 6666, 1098066, 826249]</td>\n",
       "      <td>[1082185, 981760, 1098066, 826249, 1127831]</td>\n",
       "      <td>[1082185, 981760, 6666, 1098066, 826249]</td>\n",
       "      <td>[1082185, 981760, 1098066, 826249, 1127831]</td>\n",
       "    </tr>\n",
       "  </tbody>\n",
       "</table>\n",
       "</div>"
      ],
      "text/plain": [
       "   user_id                                             actual  \\\n",
       "0        1  [821867, 834484, 856942, 865456, 889248, 90795...   \n",
       "1        3  [835476, 851057, 872021, 878302, 879948, 90963...   \n",
       "2        6  [920308, 926804, 946489, 1006718, 1017061, 107...   \n",
       "3        7  [840386, 889774, 898068, 909714, 929067, 95347...   \n",
       "4        8  [835098, 872137, 910439, 924610, 992977, 10412...   \n",
       "\n",
       "                  weighted_random_recommendation  \\\n",
       "0  [5569201, 2287297, 973880, 13115515, 6773187]   \n",
       "1  [1042564, 915545, 1074754, 1499569, 15483133]   \n",
       "2   [838662, 8067176, 854031, 1011771, 12672832]   \n",
       "3     [1034478, 991886, 992668, 934172, 6704149]   \n",
       "4     [963117, 888764, 985055, 12325406, 932410]   \n",
       "\n",
       "                           random_recommendation  \\\n",
       "0   [1040199, 12605392, 856221, 2418699, 944454]   \n",
       "1  [970747, 1100856, 1339110, 9526269, 15717033]   \n",
       "2  [839853, 12605066, 5980738, 1185318, 1004510]   \n",
       "3     [1149843, 2640727, 837694, 1810202, 41919]   \n",
       "4     [841016, 67136, 855441, 1204179, 13037614]   \n",
       "\n",
       "               random_recommendation of TOP 5000  \\\n",
       "0  [5592610, 1000672, 12731436, 907892, 1139525]   \n",
       "1     [9524291, 870327, 879876, 977658, 1067419]   \n",
       "2   [835243, 1118046, 8014645, 1388206, 1062572]   \n",
       "3   [5571248, 9835408, 9575181, 878302, 1117336]   \n",
       "4  [8015407, 8119303, 5995312, 9526624, 7025490]   \n",
       "\n",
       "       weighted_random_recommendation of TOP 5K  \\\n",
       "0  [978354, 1058939, 5569379, 1013826, 1065017]   \n",
       "1   [1075470, 872417, 6463789, 5578547, 820486]   \n",
       "2  [1043095, 901666, 1116635, 5591520, 5568228]   \n",
       "3   [12670635, 845537, 926903, 917839, 1112238]   \n",
       "4    [997988, 972416, 1004585, 957772, 1020581]   \n",
       "\n",
       "                       popular_recommendation  \\\n",
       "0  [6666, 6534178, 6533889, 1029743, 6534166]   \n",
       "1  [6666, 6534178, 6533889, 1029743, 6534166]   \n",
       "2  [6666, 6534178, 6533889, 1029743, 6534166]   \n",
       "3  [6666, 6534178, 6533889, 1029743, 6534166]   \n",
       "4  [6666, 6534178, 6533889, 1029743, 6534166]   \n",
       "\n",
       "                         ItemItem, no 6666, K=1  \\\n",
       "0    [1082185, 995242, 1029743, 840361, 904360]   \n",
       "1  [1082185, 1098066, 6534178, 826249, 1127831]   \n",
       "2    [1082185, 981760, 995242, 1029743, 840361]   \n",
       "3   [1082185, 995242, 1029743, 826249, 1127831]   \n",
       "4    [1082185, 981760, 995242, 1029743, 840361]   \n",
       "\n",
       "                        ItemItem, no 6666, K=3  \\\n",
       "0   [1082185, 981760, 995242, 1029743, 840361]   \n",
       "1  [1082185, 981760, 1098066, 6534178, 826249]   \n",
       "2   [1082185, 981760, 995242, 1029743, 840361]   \n",
       "3   [1082185, 981760, 995242, 1029743, 826249]   \n",
       "4  [1082185, 981760, 6534178, 995242, 1029743]   \n",
       "\n",
       "                        ItemItem, no 6666, K=5  \\\n",
       "0  [1082185, 981760, 1127831, 995242, 1098066]   \n",
       "1   [1082185, 981760, 1098066, 995242, 826249]   \n",
       "2  [1082185, 981760, 1127831, 995242, 1098066]   \n",
       "3  [1082185, 981760, 1127831, 995242, 1098066]   \n",
       "4  [1082185, 981760, 1127831, 1098066, 995242]   \n",
       "\n",
       "                        ItemItem, no 6666, K=7  \\\n",
       "0   [1082185, 981760, 995242, 840361, 1127831]   \n",
       "1   [1082185, 981760, 1098066, 826249, 995242]   \n",
       "2  [1082185, 981760, 995242, 1098066, 1127831]   \n",
       "3  [1082185, 981760, 1098066, 995242, 1127831]   \n",
       "4   [1082185, 981760, 1098066, 995242, 826249]   \n",
       "\n",
       "                       ItemItem, no 6666, K=9  \\\n",
       "0  [1082185, 981760, 995242, 840361, 1127831]   \n",
       "1  [1082185, 981760, 1098066, 826249, 995242]   \n",
       "2  [1082185, 981760, 995242, 840361, 1098066]   \n",
       "3  [1082185, 981760, 995242, 1098066, 826249]   \n",
       "4  [1082185, 981760, 1098066, 995242, 826249]   \n",
       "\n",
       "                           itemitem all, K=5  \\\n",
       "0   [6666, 1082185, 981760, 1127831, 995242]   \n",
       "1   [6666, 1082185, 981760, 1098066, 995242]   \n",
       "2   [6666, 1082185, 981760, 1127831, 995242]   \n",
       "3   [6666, 1082185, 981760, 1127831, 995242]   \n",
       "4  [6666, 1082185, 981760, 1127831, 1098066]   \n",
       "\n",
       "                                      cosine  \\\n",
       "0  [1082185, 6666, 981760, 1127831, 1098066]   \n",
       "1   [1082185, 1098066, 981760, 6666, 826249]   \n",
       "2  [1082185, 6666, 981760, 1127831, 1098066]   \n",
       "3   [1082185, 981760, 6666, 1127831, 961554]   \n",
       "4   [1082185, 981760, 6666, 1098066, 826249]   \n",
       "\n",
       "                                cosine no 6666  \\\n",
       "0  [1082185, 981760, 1127831, 1098066, 961554]   \n",
       "1   [1082185, 1098066, 981760, 826249, 883404]   \n",
       "2  [1082185, 981760, 1127831, 1098066, 961554]   \n",
       "3  [1082185, 981760, 1127831, 961554, 1098066]   \n",
       "4  [1082185, 981760, 1098066, 826249, 1127831]   \n",
       "\n",
       "                                       tfidf  \\\n",
       "0  [1082185, 981760, 1127831, 6666, 1098066]   \n",
       "1   [1082185, 981760, 1098066, 826249, 6666]   \n",
       "2   [1082185, 981760, 1127831, 6666, 878996]   \n",
       "3   [1082185, 981760, 1127831, 6666, 961554]   \n",
       "4   [1082185, 981760, 6666, 1098066, 826249]   \n",
       "\n",
       "                                 tfidf no 6666  \n",
       "0  [1082185, 981760, 1127831, 1098066, 961554]  \n",
       "1   [1082185, 981760, 1098066, 826249, 883404]  \n",
       "2   [1082185, 981760, 1127831, 878996, 961554]  \n",
       "3   [1082185, 981760, 1127831, 961554, 826249]  \n",
       "4  [1082185, 981760, 1098066, 826249, 1127831]  "
      ]
     },
     "execution_count": 47,
     "metadata": {},
     "output_type": "execute_result"
    }
   ],
   "source": [
    "result.head(5)"
   ]
  },
  {
   "cell_type": "code",
   "execution_count": 48,
   "metadata": {},
   "outputs": [],
   "source": [
    "# Функции из 1-ого вебинара\n",
    "import os, sys\n",
    "    \n",
    "from metrics import precision_at_k, recall_at_k"
   ]
  },
  {
   "cell_type": "markdown",
   "metadata": {},
   "source": [
    "# Metrics"
   ]
  },
  {
   "cell_type": "code",
   "execution_count": 49,
   "metadata": {},
   "outputs": [
    {
     "name": "stdout",
     "output_type": "stream",
     "text": [
      "1.0:actual\n",
      "0.0009:weighted_random_recommendation\n",
      "0.0007:random_recommendation\n",
      "0.0063:random_recommendation of TOP 5000\n",
      "0.0068:weighted_random_recommendation of TOP 5K\n",
      "0.0856:popular_recommendation\n"
     ]
    },
    {
     "name": "stderr",
     "output_type": "stream",
     "text": [
      "C:\\Users\\LMAXL\\Documents\\обучение\\15 рек системы\\курс 07.2021\\webinar_2\\metrics.py:20: RuntimeWarning: invalid value encountered in long_scalars\n",
      "  return flags.sum() / len(recommended_list)\n"
     ]
    },
    {
     "name": "stdout",
     "output_type": "stream",
     "text": [
      "0.2199:ItemItem, no 6666, K=1\n",
      "0.219:ItemItem, no 6666, K=3\n",
      "0.151:ItemItem, no 6666, K=5\n",
      "0.16:ItemItem, no 6666, K=7\n",
      "0.1642:ItemItem, no 6666, K=9\n",
      "0.1368:itemitem all, K=5\n",
      "0.1329:cosine\n",
      "0.1551:cosine no 6666\n",
      "0.139:tfidf\n",
      "0.1609:tfidf no 6666\n"
     ]
    }
   ],
   "source": [
    "for name_col in result.columns[1:]:\n",
    "    print(f\"{round(result.apply(lambda row: precision_at_k(row[name_col], row['actual']), axis=1).mean(),4)}:{name_col}\")"
   ]
  },
  {
   "cell_type": "markdown",
   "metadata": {},
   "source": [
    "#### Выводы:\n",
    "\n",
    "Исключение непопулярных товаров увеличивает метрику, улучшает результат.\n",
    "\n",
    "Для ItemItem лучшее K = 1, далее 3 и 9 , это же и топ3 модели по результатам.\n",
    "\n"
   ]
  },
  {
   "cell_type": "code",
   "execution_count": null,
   "metadata": {},
   "outputs": [],
   "source": []
  },
  {
   "cell_type": "code",
   "execution_count": null,
   "metadata": {},
   "outputs": [],
   "source": []
  }
 ],
 "metadata": {
  "colab": {
   "name": "hw_webinar_2.ipynb",
   "provenance": []
  },
  "kernelspec": {
   "display_name": "Python 3",
   "language": "python",
   "name": "python3"
  },
  "language_info": {
   "codemirror_mode": {
    "name": "ipython",
    "version": 3
   },
   "file_extension": ".py",
   "mimetype": "text/x-python",
   "name": "python",
   "nbconvert_exporter": "python",
   "pygments_lexer": "ipython3",
   "version": "3.7.6"
  }
 },
 "nbformat": 4,
 "nbformat_minor": 4
}
